{
 "cells": [
  {
   "cell_type": "markdown",
   "metadata": {
    "colab_type": "text",
    "id": "1w8TUMWepGn8"
   },
   "source": [
    "### Exploratory Data Analysis \n",
    "\n"
   ]
  },
  {
   "cell_type": "markdown",
   "metadata": {
    "colab_type": "text",
    "id": "YPxq2h1ypGn8"
   },
   "source": [
    "The HOUSES dataset contains a collection of recent real estate listings in San Luis Obispo county and around it. The dataset is as a CSV file. The dataset contains the following fields:\n",
    "\n",
    "1. MLS: Multiple listing service number for the house (unique ID).\n",
    "2. Location: city/town where the house is located. Most locations are in San Luis Obispo county and northern Santa Barbara county (Santa Maria-Orcutt, Lompoc, Guadelupe, Los Alamos), but there some out of area locations as well.\n",
    "4. Price: the most recent listing price of the house (in dollars).\n",
    "5. Bedrooms: number of bedrooms.\n",
    "6. Bathrooms: number of bathrooms.\n",
    "7. Size: size of the house in square feet.\n",
    "8. Price/SQ.ft: price of the house per square foot.\n",
    "9. Status: type of sale. Thee types are represented in the dataset: Short Sale, Foreclosure and Regular.\n",
    "\n",
    "Lets import the required libraries that we will be using later. "
   ]
  },
  {
   "cell_type": "code",
   "execution_count": 1,
   "metadata": {
    "colab": {},
    "colab_type": "code",
    "id": "bPYuP08hpGn9"
   },
   "outputs": [],
   "source": [
    "from numpy import * # everything \n",
    "import pandas as pd "
   ]
  },
  {
   "cell_type": "markdown",
   "metadata": {
    "colab_type": "text",
    "id": "xwIOGRdbpGoA"
   },
   "source": [
    "Let's load the dataset into a pandas dataframe and have a look at the headers."
   ]
  },
  {
   "cell_type": "code",
   "execution_count": 2,
   "metadata": {
    "colab": {},
    "colab_type": "code",
    "id": "CYmpXRazpGoB",
    "scrolled": true
   },
   "outputs": [],
   "source": [
    "df = pd.read_csv('data.csv', sep=',', error_bad_lines=False) # read fie as a dataframe"
   ]
  },
  {
   "cell_type": "markdown",
   "metadata": {
    "colab_type": "text",
    "id": "LFCfmALtpGoD"
   },
   "source": [
    "Lets take a look at the first 2 rows of the dataframe."
   ]
  },
  {
   "cell_type": "code",
   "execution_count": 3,
   "metadata": {
    "colab": {},
    "colab_type": "code",
    "id": "syVb3mhNpGoE",
    "outputId": "024618c6-0ad0-44cd-8dda-34c403375e2c"
   },
   "outputs": [
    {
     "data": {
      "text/html": [
       "<div>\n",
       "<style scoped>\n",
       "    .dataframe tbody tr th:only-of-type {\n",
       "        vertical-align: middle;\n",
       "    }\n",
       "\n",
       "    .dataframe tbody tr th {\n",
       "        vertical-align: top;\n",
       "    }\n",
       "\n",
       "    .dataframe thead th {\n",
       "        text-align: right;\n",
       "    }\n",
       "</style>\n",
       "<table border=\"1\" class=\"dataframe\">\n",
       "  <thead>\n",
       "    <tr style=\"text-align: right;\">\n",
       "      <th></th>\n",
       "      <th>MLS</th>\n",
       "      <th>Location</th>\n",
       "      <th>Price</th>\n",
       "      <th>Bedrooms</th>\n",
       "      <th>Bathrooms</th>\n",
       "      <th>Size</th>\n",
       "      <th>Price/SQ.Ft</th>\n",
       "      <th>Status</th>\n",
       "    </tr>\n",
       "  </thead>\n",
       "  <tbody>\n",
       "    <tr>\n",
       "      <th>0</th>\n",
       "      <td>132842</td>\n",
       "      <td>Arroyo Grande</td>\n",
       "      <td>795000</td>\n",
       "      <td>3</td>\n",
       "      <td>3</td>\n",
       "      <td>2371</td>\n",
       "      <td>335.30</td>\n",
       "      <td>Short Sale</td>\n",
       "    </tr>\n",
       "    <tr>\n",
       "      <th>1</th>\n",
       "      <td>134364</td>\n",
       "      <td>Paso Robles</td>\n",
       "      <td>399000</td>\n",
       "      <td>4</td>\n",
       "      <td>3</td>\n",
       "      <td>2818</td>\n",
       "      <td>141.59</td>\n",
       "      <td>Short Sale</td>\n",
       "    </tr>\n",
       "  </tbody>\n",
       "</table>\n",
       "</div>"
      ],
      "text/plain": [
       "      MLS       Location   Price  Bedrooms  Bathrooms  Size  Price/SQ.Ft  \\\n",
       "0  132842  Arroyo Grande  795000         3          3  2371       335.30   \n",
       "1  134364    Paso Robles  399000         4          3  2818       141.59   \n",
       "\n",
       "       Status  \n",
       "0  Short Sale  \n",
       "1  Short Sale  "
      ]
     },
     "execution_count": 3,
     "metadata": {},
     "output_type": "execute_result"
    }
   ],
   "source": [
    "df.head(2)"
   ]
  },
  {
   "cell_type": "markdown",
   "metadata": {
    "colab_type": "text",
    "id": "KcC01DnkpGoH"
   },
   "source": [
    "Examine the provided columns, does the pandas infered datatype of each column make sense? Inlucde your code and/or comments below. "
   ]
  },
  {
   "cell_type": "code",
   "execution_count": 4,
   "metadata": {
    "colab": {},
    "colab_type": "code",
    "id": "rdDcmJeZpGoI"
   },
   "outputs": [
    {
     "name": "stdout",
     "output_type": "stream",
     "text": [
      "count       781.000000\n",
      "mean     151224.550576\n",
      "std        3936.122042\n",
      "min      132842.000000\n",
      "25%      149922.000000\n",
      "50%      152581.000000\n",
      "75%      154167.000000\n",
      "max      154580.000000\n",
      "Name: MLS, dtype: float64\n",
      "count                    781\n",
      "unique                    54\n",
      "top       Santa Maria-Orcutt\n",
      "freq                     265\n",
      "Name: Location, dtype: object\n",
      "count    7.810000e+02\n",
      "mean     3.833291e+05\n",
      "std      3.490381e+05\n",
      "min      2.650000e+04\n",
      "25%      1.990000e+05\n",
      "50%      2.950000e+05\n",
      "75%      4.290000e+05\n",
      "max      5.499000e+06\n",
      "Name: Price, dtype: float64\n",
      "count    781.000000\n",
      "mean       3.142125\n",
      "std        0.855768\n",
      "min        0.000000\n",
      "25%        3.000000\n",
      "50%        3.000000\n",
      "75%        4.000000\n",
      "max       10.000000\n",
      "Name: Bedrooms, dtype: float64\n",
      "count    781.000000\n",
      "mean       2.355954\n",
      "std        0.846596\n",
      "min        1.000000\n",
      "25%        2.000000\n",
      "50%        2.000000\n",
      "75%        3.000000\n",
      "max       11.000000\n",
      "Name: Bathrooms, dtype: float64\n",
      "count     781.000000\n",
      "mean     1755.058899\n",
      "std       819.577603\n",
      "min       120.000000\n",
      "25%      1218.000000\n",
      "50%      1550.000000\n",
      "75%      2032.000000\n",
      "max      6800.000000\n",
      "Name: Size, dtype: float64\n",
      "count     781.000000\n",
      "mean      213.131293\n",
      "std       115.082146\n",
      "min        19.330000\n",
      "25%       142.140000\n",
      "50%       188.360000\n",
      "75%       245.420000\n",
      "max      1144.640000\n",
      "Name: Price/SQ.Ft, dtype: float64\n",
      "count            781\n",
      "unique             3\n",
      "top       Short Sale\n",
      "freq             516\n",
      "Name: Status, dtype: object\n"
     ]
    }
   ],
   "source": [
    "#TODO -- Done\n",
    "print(df.MLS.describe())\n",
    "print(df.Location.describe())\n",
    "print(df.Price.describe())\n",
    "print(df.Bedrooms.describe())\n",
    "print(df.Bathrooms.describe())\n",
    "print(df.Size.describe())\n",
    "print(df['Price/SQ.Ft'].describe())\n",
    "print(df.Status.describe())\n",
    "#Yes the infered datatype of each column does make sense since all numbers have dtype of int64 (and float64 for decimals) and those with strings have dtype of object."
   ]
  },
  {
   "cell_type": "markdown",
   "metadata": {
    "colab_type": "text",
    "id": "qfzj_GNXpGoK"
   },
   "source": [
    "Next, lets look at a specific column or feature in the dataframe. \n",
    "Based on the provided dataset, what are the distinct number of bedrooms and bathrooms?  Hint : Use the unique function https://pandas.pydata.org/pandas-docs/stable/reference/api/pandas.unique.html"
   ]
  },
  {
   "cell_type": "code",
   "execution_count": 5,
   "metadata": {
    "colab": {},
    "colab_type": "code",
    "id": "s7ADQPLdpGoL"
   },
   "outputs": [
    {
     "name": "stdout",
     "output_type": "stream",
     "text": [
      "('Bedrooms', array([ 3,  4,  2,  7,  1,  5,  0,  6, 10]))\n",
      "('Bathrooms', array([ 3,  4,  1,  2,  5,  7,  6, 11]))\n"
     ]
    }
   ],
   "source": [
    "# TODO -- Done\n",
    "print(\"Bedrooms\", pd.unique(df.Bedrooms))\n",
    "print(\"Bathrooms\", pd.unique(df.Bathrooms))"
   ]
  },
  {
   "cell_type": "markdown",
   "metadata": {
    "colab_type": "text",
    "id": "H0g9LnoopGoN"
   },
   "source": [
    "What if we want to drop a column from the dataframe, like the 'Location' column. Hint: Use the drop function https://pandas.pydata.org/pandas-docs/stable/reference/api/pandas.DataFrame.drop.html"
   ]
  },
  {
   "cell_type": "code",
   "execution_count": 6,
   "metadata": {
    "colab": {},
    "colab_type": "code",
    "id": "QnEX3TAYpGoN"
   },
   "outputs": [
    {
     "data": {
      "text/html": [
       "<div>\n",
       "<style scoped>\n",
       "    .dataframe tbody tr th:only-of-type {\n",
       "        vertical-align: middle;\n",
       "    }\n",
       "\n",
       "    .dataframe tbody tr th {\n",
       "        vertical-align: top;\n",
       "    }\n",
       "\n",
       "    .dataframe thead th {\n",
       "        text-align: right;\n",
       "    }\n",
       "</style>\n",
       "<table border=\"1\" class=\"dataframe\">\n",
       "  <thead>\n",
       "    <tr style=\"text-align: right;\">\n",
       "      <th></th>\n",
       "      <th>MLS</th>\n",
       "      <th>Price</th>\n",
       "      <th>Bedrooms</th>\n",
       "      <th>Bathrooms</th>\n",
       "      <th>Size</th>\n",
       "      <th>Price/SQ.Ft</th>\n",
       "      <th>Status</th>\n",
       "    </tr>\n",
       "  </thead>\n",
       "  <tbody>\n",
       "    <tr>\n",
       "      <th>0</th>\n",
       "      <td>132842</td>\n",
       "      <td>795000</td>\n",
       "      <td>3</td>\n",
       "      <td>3</td>\n",
       "      <td>2371</td>\n",
       "      <td>335.30</td>\n",
       "      <td>Short Sale</td>\n",
       "    </tr>\n",
       "    <tr>\n",
       "      <th>1</th>\n",
       "      <td>134364</td>\n",
       "      <td>399000</td>\n",
       "      <td>4</td>\n",
       "      <td>3</td>\n",
       "      <td>2818</td>\n",
       "      <td>141.59</td>\n",
       "      <td>Short Sale</td>\n",
       "    </tr>\n",
       "    <tr>\n",
       "      <th>2</th>\n",
       "      <td>135141</td>\n",
       "      <td>545000</td>\n",
       "      <td>4</td>\n",
       "      <td>3</td>\n",
       "      <td>3032</td>\n",
       "      <td>179.75</td>\n",
       "      <td>Short Sale</td>\n",
       "    </tr>\n",
       "    <tr>\n",
       "      <th>3</th>\n",
       "      <td>135712</td>\n",
       "      <td>909000</td>\n",
       "      <td>4</td>\n",
       "      <td>4</td>\n",
       "      <td>3540</td>\n",
       "      <td>256.78</td>\n",
       "      <td>Short Sale</td>\n",
       "    </tr>\n",
       "    <tr>\n",
       "      <th>4</th>\n",
       "      <td>136282</td>\n",
       "      <td>109900</td>\n",
       "      <td>3</td>\n",
       "      <td>1</td>\n",
       "      <td>1249</td>\n",
       "      <td>87.99</td>\n",
       "      <td>Short Sale</td>\n",
       "    </tr>\n",
       "  </tbody>\n",
       "</table>\n",
       "</div>"
      ],
      "text/plain": [
       "      MLS   Price  Bedrooms  Bathrooms  Size  Price/SQ.Ft      Status\n",
       "0  132842  795000         3          3  2371       335.30  Short Sale\n",
       "1  134364  399000         4          3  2818       141.59  Short Sale\n",
       "2  135141  545000         4          3  3032       179.75  Short Sale\n",
       "3  135712  909000         4          4  3540       256.78  Short Sale\n",
       "4  136282  109900         3          1  1249        87.99  Short Sale"
      ]
     },
     "execution_count": 6,
     "metadata": {},
     "output_type": "execute_result"
    }
   ],
   "source": [
    "# TODO -- Done\n",
    "df = df.drop(columns=['Location'])\n",
    "df.head()"
   ]
  },
  {
   "cell_type": "markdown",
   "metadata": {
    "colab_type": "text",
    "id": "YS2YZbYfpGoQ"
   },
   "source": [
    "Let's rename the first column. \n",
    "\n",
    "Hint: A Google search for 'python pandas dataframe rename' points you at this documentation \n",
    "https://pandas.pydata.org/pandas-docs/stable/reference/api/pandas.DataFrame.rename.html"
   ]
  },
  {
   "cell_type": "code",
   "execution_count": 7,
   "metadata": {
    "colab": {},
    "colab_type": "code",
    "id": "bMLS4IqOpGoQ",
    "outputId": "243a1af0-bfe1-42d6-f14a-c2a247d1a214"
   },
   "outputs": [
    {
     "name": "stdout",
     "output_type": "stream",
     "text": [
      "('Before rename', Index([u'MLS', u'Price', u'Bedrooms', u'Bathrooms', u'Size', u'Price/SQ.Ft',\n",
      "       u'Status'],\n",
      "      dtype='object'))\n",
      "('After rename', Index([u'MLS_ID', u'Price', u'Bedrooms', u'Bathrooms', u'Size', u'Price/SQ.Ft',\n",
      "       u'Status'],\n",
      "      dtype='object'))\n"
     ]
    },
    {
     "data": {
      "text/html": [
       "<div>\n",
       "<style scoped>\n",
       "    .dataframe tbody tr th:only-of-type {\n",
       "        vertical-align: middle;\n",
       "    }\n",
       "\n",
       "    .dataframe tbody tr th {\n",
       "        vertical-align: top;\n",
       "    }\n",
       "\n",
       "    .dataframe thead th {\n",
       "        text-align: right;\n",
       "    }\n",
       "</style>\n",
       "<table border=\"1\" class=\"dataframe\">\n",
       "  <thead>\n",
       "    <tr style=\"text-align: right;\">\n",
       "      <th></th>\n",
       "      <th>MLS_ID</th>\n",
       "      <th>Price</th>\n",
       "      <th>Bedrooms</th>\n",
       "      <th>Bathrooms</th>\n",
       "      <th>Size</th>\n",
       "      <th>Price/SQ.Ft</th>\n",
       "      <th>Status</th>\n",
       "    </tr>\n",
       "  </thead>\n",
       "  <tbody>\n",
       "    <tr>\n",
       "      <th>0</th>\n",
       "      <td>132842</td>\n",
       "      <td>795000</td>\n",
       "      <td>3</td>\n",
       "      <td>3</td>\n",
       "      <td>2371</td>\n",
       "      <td>335.30</td>\n",
       "      <td>Short Sale</td>\n",
       "    </tr>\n",
       "    <tr>\n",
       "      <th>1</th>\n",
       "      <td>134364</td>\n",
       "      <td>399000</td>\n",
       "      <td>4</td>\n",
       "      <td>3</td>\n",
       "      <td>2818</td>\n",
       "      <td>141.59</td>\n",
       "      <td>Short Sale</td>\n",
       "    </tr>\n",
       "  </tbody>\n",
       "</table>\n",
       "</div>"
      ],
      "text/plain": [
       "   MLS_ID   Price  Bedrooms  Bathrooms  Size  Price/SQ.Ft      Status\n",
       "0  132842  795000         3          3  2371       335.30  Short Sale\n",
       "1  134364  399000         4          3  2818       141.59  Short Sale"
      ]
     },
     "execution_count": 7,
     "metadata": {},
     "output_type": "execute_result"
    }
   ],
   "source": [
    "print (\"Before rename\", df.columns)\n",
    "#TODO -- Done\n",
    "\n",
    "df = df.rename(columns={\"MLS\": \"MLS_ID\"})\n",
    "print (\"After rename\", df.columns)\n",
    "df.head(2)"
   ]
  },
  {
   "cell_type": "markdown",
   "metadata": {
    "colab_type": "text",
    "id": "pc9BF6glpGoT"
   },
   "source": [
    "What is the max, min, mean/avg, and standard deviation of the column 'Bedrooms'?"
   ]
  },
  {
   "cell_type": "code",
   "execution_count": 8,
   "metadata": {
    "colab": {},
    "colab_type": "code",
    "id": "uGqcmuVvpGoT",
    "scrolled": true
   },
   "outputs": [
    {
     "name": "stdout",
     "output_type": "stream",
     "text": [
      "('Max', 10)\n",
      "('Min', 0)\n",
      "('Mean', 3.1421254801536493)\n",
      "('Average', 3)\n",
      "('Standard Deviation', 0.8557678151609314)\n",
      "count    781.000000\n",
      "mean       3.142125\n",
      "std        0.855768\n",
      "min        0.000000\n",
      "25%        3.000000\n",
      "50%        3.000000\n",
      "75%        4.000000\n",
      "max       10.000000\n",
      "Name: Bedrooms, dtype: float64\n"
     ]
    }
   ],
   "source": [
    "# TODO -- Done\n",
    "print(\"Max\", df.Bedrooms.max())\n",
    "print(\"Min\", df.Bedrooms.min())\n",
    "print(\"Mean\", df.Bedrooms.mean())\n",
    "print(\"Average\", df.Bedrooms.sum()/df.Bedrooms.size)\n",
    "print(\"Standard Deviation\", df.Bedrooms.std())\n",
    "print(df.Bedrooms.describe())"
   ]
  },
  {
   "cell_type": "markdown",
   "metadata": {
    "colab_type": "text",
    "id": "mM2PDyNdpGoV"
   },
   "source": [
    "Plot the distribution of 'Price/SQ.Ft' using matplotlib"
   ]
  },
  {
   "cell_type": "code",
   "execution_count": 9,
   "metadata": {
    "colab": {},
    "colab_type": "code",
    "id": "kesFl8bqpGoW",
    "outputId": "bc938c95-1380-4d22-9cb1-ad733e0cfd93",
    "scrolled": false
   },
   "outputs": [
    {
     "data": {
      "image/png": "[encoded data removed]",
      "text/plain": [
       "<Figure size 432x288 with 1 Axes>"
      ]
     },
     "metadata": {
      "needs_background": "light"
     },
     "output_type": "display_data"
    }
   ],
   "source": [
    "import matplotlib.mlab as mlab\n",
    "import matplotlib.pyplot as plt\n",
    "%matplotlib inline\n",
    "\n",
    "# plot histogram \n",
    "n, bins, patches = plt.hist(df['Price/SQ.Ft'], 10, facecolor='green')\n",
    "#plt.show()"
   ]
  },
  {
   "cell_type": "code",
   "execution_count": 10,
   "metadata": {},
   "outputs": [],
   "source": [
    "plt.show()"
   ]
  },
  {
   "cell_type": "markdown",
   "metadata": {
    "colab_type": "text",
    "id": "LdyKhDu8pGoY"
   },
   "source": [
    "One of the best ways to inspect data is visualize it. One way to do this is by using a scatter plot. A scatter plot of the data puts one feature along the x-axis and another along the y-axis, and draws a dot for each data point. \n",
    "\n",
    "Since its difficult to visualize more than 2 or 3 features, one possibility is to use a pair plot that looks at all possible pairs of features. The pair plot shows the interaction of each pair of features inorder to visualize any correlation between features. "
   ]
  },
  {
   "cell_type": "code",
   "execution_count": 11,
   "metadata": {
    "colab": {},
    "colab_type": "code",
    "id": "OnKU2n7UpGoY",
    "outputId": "3d3212e4-b05c-4e10-8b76-5f2691768ff5",
    "scrolled": true
   },
   "outputs": [
    {
     "name": "stdout",
     "output_type": "stream",
     "text": [
      "(781, 7)\n"
     ]
    },
    {
     "data": {
      "image/png": "[encoded data removed]",
      "text/plain": [
       "<Figure size 360x360 with 25 Axes>"
      ]
     },
     "metadata": {
      "needs_background": "light"
     },
     "output_type": "display_data"
    }
   ],
   "source": [
    "# import the scatter_matrix functionality\n",
    "import random as rand\n",
    "from pandas.plotting import scatter_matrix\n",
    "import matplotlib.pyplot as plt\n",
    "\n",
    "print (df.shape)\n",
    "x = df.iloc[:,[1,2,3,4,5]] # extract only a subset of columns from dataframe (using index)\n",
    "y = x.dropna(thresh=5) # drop any rows that have 5 or more fields as NAN  \n",
    "a = scatter_matrix(x, alpha=0.05, figsize=(5,5), diagonal='hist')\n",
    "plt.show()"
   ]
  },
  {
   "cell_type": "code",
   "execution_count": 12,
   "metadata": {
    "colab": {},
    "colab_type": "code",
    "id": "iTkPFkqKpGob",
    "outputId": "c51c4b9b-bd51-40cf-c09f-d171c5e905db"
   },
   "outputs": [
    {
     "data": {
      "image/png": "[encoded data removed]",
      "text/plain": [
       "<Figure size 432x288 with 1 Axes>"
      ]
     },
     "metadata": {
      "needs_background": "light"
     },
     "output_type": "display_data"
    }
   ],
   "source": [
    "#Lets plot the Price vs Size of the homes\n",
    "\n",
    "fig=plt.figure()\n",
    "plt.scatter(df.Price, df.Size)\n",
    "axis = fig.gca() #get current axis\n",
    "axis.set_title('Price vs Size')\n",
    "axis.set_xlabel('Price')\n",
    "axis.set_ylabel('Size')\n",
    "fig.canvas.draw()"
   ]
  },
  {
   "cell_type": "markdown",
   "metadata": {
    "colab_type": "text",
    "id": "2V6PqV9vpGod"
   },
   "source": [
    "What does the visualizations and the statistics we observed tell you so far. Is there any other interesting stats or visualizations you think might be helpful. Include your comments and code below"
   ]
  },
  {
   "cell_type": "code",
   "execution_count": 13,
   "metadata": {
    "colab": {},
    "colab_type": "code",
    "id": "QYPCsN2qpGod"
   },
   "outputs": [
    {
     "data": {
      "image/png": "[encoded data removed]",
      "text/plain": [
       "<Figure size 432x288 with 1 Axes>"
      ]
     },
     "metadata": {
      "needs_background": "light"
     },
     "output_type": "display_data"
    }
   ],
   "source": [
    "# TODO -- Done\n",
    "# The scatter graph ABOVE shows that there is a steep correlation between price and the size of the houses.\n",
    "\n",
    "qfig=plt.figure()\n",
    "plt.scatter(df.Bedrooms, df.Bathrooms)\n",
    "qaxis = qfig.gca() #get current axis\n",
    "qaxis.set_title('Bedrooms vs Bathrooms')\n",
    "qaxis.set_xlabel('Bedrooms')\n",
    "qaxis.set_ylabel('Bathrooms')\n",
    "qfig.canvas.draw()\n",
    "\n",
    "# There are other interesting stats/visulization thats helpful, such as the Bedrooms vs. Bathrooms correlation BELOW. \n",
    "# It make sense to have more bathrooms as you increase in bedrooms."
   ]
  },
  {
   "cell_type": "markdown",
   "metadata": {
    "colab_type": "text",
    "id": "CrXkvHQ0pGof"
   },
   "source": [
    "## Categorical Encoding\n",
    "If we have categorical or continuous variables and we would like to encode them into discrete integer files (like 0, 1, 2, ...) we can use several tricks in pandas to do this."
   ]
  },
  {
   "cell_type": "code",
   "execution_count": 14,
   "metadata": {
    "colab": {},
    "colab_type": "code",
    "id": "VENbjEV6pGof",
    "outputId": "0f81db8f-9823-4115-892c-a6b9254efef7"
   },
   "outputs": [
    {
     "data": {
      "text/html": [
       "<div>\n",
       "<style scoped>\n",
       "    .dataframe tbody tr th:only-of-type {\n",
       "        vertical-align: middle;\n",
       "    }\n",
       "\n",
       "    .dataframe tbody tr th {\n",
       "        vertical-align: top;\n",
       "    }\n",
       "\n",
       "    .dataframe thead th {\n",
       "        text-align: right;\n",
       "    }\n",
       "</style>\n",
       "<table border=\"1\" class=\"dataframe\">\n",
       "  <thead>\n",
       "    <tr style=\"text-align: right;\">\n",
       "      <th></th>\n",
       "      <th>MLS_ID</th>\n",
       "      <th>Price</th>\n",
       "      <th>Bedrooms</th>\n",
       "      <th>Bathrooms</th>\n",
       "      <th>Size</th>\n",
       "      <th>Price/SQ.Ft</th>\n",
       "      <th>Status</th>\n",
       "    </tr>\n",
       "  </thead>\n",
       "  <tbody>\n",
       "    <tr>\n",
       "      <th>0</th>\n",
       "      <td>132842</td>\n",
       "      <td>795000</td>\n",
       "      <td>3</td>\n",
       "      <td>3</td>\n",
       "      <td>2371</td>\n",
       "      <td>335.30</td>\n",
       "      <td>2</td>\n",
       "    </tr>\n",
       "    <tr>\n",
       "      <th>1</th>\n",
       "      <td>134364</td>\n",
       "      <td>399000</td>\n",
       "      <td>4</td>\n",
       "      <td>3</td>\n",
       "      <td>2818</td>\n",
       "      <td>141.59</td>\n",
       "      <td>2</td>\n",
       "    </tr>\n",
       "    <tr>\n",
       "      <th>2</th>\n",
       "      <td>135141</td>\n",
       "      <td>545000</td>\n",
       "      <td>4</td>\n",
       "      <td>3</td>\n",
       "      <td>3032</td>\n",
       "      <td>179.75</td>\n",
       "      <td>2</td>\n",
       "    </tr>\n",
       "    <tr>\n",
       "      <th>3</th>\n",
       "      <td>135712</td>\n",
       "      <td>909000</td>\n",
       "      <td>4</td>\n",
       "      <td>4</td>\n",
       "      <td>3540</td>\n",
       "      <td>256.78</td>\n",
       "      <td>2</td>\n",
       "    </tr>\n",
       "    <tr>\n",
       "      <th>4</th>\n",
       "      <td>136282</td>\n",
       "      <td>109900</td>\n",
       "      <td>3</td>\n",
       "      <td>1</td>\n",
       "      <td>1249</td>\n",
       "      <td>87.99</td>\n",
       "      <td>2</td>\n",
       "    </tr>\n",
       "  </tbody>\n",
       "</table>\n",
       "</div>"
      ],
      "text/plain": [
       "   MLS_ID   Price  Bedrooms  Bathrooms  Size  Price/SQ.Ft  Status\n",
       "0  132842  795000         3          3  2371       335.30       2\n",
       "1  134364  399000         4          3  2818       141.59       2\n",
       "2  135141  545000         4          3  3032       179.75       2\n",
       "3  135712  909000         4          4  3540       256.78       2\n",
       "4  136282  109900         3          1  1249        87.99       2"
      ]
     },
     "execution_count": 14,
     "metadata": {},
     "output_type": "execute_result"
    }
   ],
   "source": [
    "# Approach 1 - Pandas makes it easy for us to directly replace the text values with their numeric equivalent by using replace .\n",
    "\n",
    "newValues = {\"Status\": {\"Foreclosure\": 1, \"Short Sale\": 2, \"Regular\" : 3}}\n",
    "df2 = df.replace(newValues, inplace=False )\n",
    "df2.head()"
   ]
  },
  {
   "cell_type": "code",
   "execution_count": 15,
   "metadata": {
    "colab": {},
    "colab_type": "code",
    "id": "yMyW7cjspGoi",
    "outputId": "60e95b56-bbb1-4b27-90ee-bbcf43daa2e2"
   },
   "outputs": [
    {
     "data": {
      "text/html": [
       "<div>\n",
       "<style scoped>\n",
       "    .dataframe tbody tr th:only-of-type {\n",
       "        vertical-align: middle;\n",
       "    }\n",
       "\n",
       "    .dataframe tbody tr th {\n",
       "        vertical-align: top;\n",
       "    }\n",
       "\n",
       "    .dataframe thead th {\n",
       "        text-align: right;\n",
       "    }\n",
       "</style>\n",
       "<table border=\"1\" class=\"dataframe\">\n",
       "  <thead>\n",
       "    <tr style=\"text-align: right;\">\n",
       "      <th></th>\n",
       "      <th>MLS_ID</th>\n",
       "      <th>Price</th>\n",
       "      <th>Bedrooms</th>\n",
       "      <th>Bathrooms</th>\n",
       "      <th>Size</th>\n",
       "      <th>Price/SQ.Ft</th>\n",
       "      <th>Status</th>\n",
       "      <th>Status_cat</th>\n",
       "    </tr>\n",
       "  </thead>\n",
       "  <tbody>\n",
       "    <tr>\n",
       "      <th>0</th>\n",
       "      <td>132842</td>\n",
       "      <td>795000</td>\n",
       "      <td>3</td>\n",
       "      <td>3</td>\n",
       "      <td>2371</td>\n",
       "      <td>335.30</td>\n",
       "      <td>Short Sale</td>\n",
       "      <td>2</td>\n",
       "    </tr>\n",
       "    <tr>\n",
       "      <th>1</th>\n",
       "      <td>134364</td>\n",
       "      <td>399000</td>\n",
       "      <td>4</td>\n",
       "      <td>3</td>\n",
       "      <td>2818</td>\n",
       "      <td>141.59</td>\n",
       "      <td>Short Sale</td>\n",
       "      <td>2</td>\n",
       "    </tr>\n",
       "    <tr>\n",
       "      <th>2</th>\n",
       "      <td>135141</td>\n",
       "      <td>545000</td>\n",
       "      <td>4</td>\n",
       "      <td>3</td>\n",
       "      <td>3032</td>\n",
       "      <td>179.75</td>\n",
       "      <td>Short Sale</td>\n",
       "      <td>2</td>\n",
       "    </tr>\n",
       "    <tr>\n",
       "      <th>3</th>\n",
       "      <td>135712</td>\n",
       "      <td>909000</td>\n",
       "      <td>4</td>\n",
       "      <td>4</td>\n",
       "      <td>3540</td>\n",
       "      <td>256.78</td>\n",
       "      <td>Short Sale</td>\n",
       "      <td>2</td>\n",
       "    </tr>\n",
       "    <tr>\n",
       "      <th>4</th>\n",
       "      <td>136282</td>\n",
       "      <td>109900</td>\n",
       "      <td>3</td>\n",
       "      <td>1</td>\n",
       "      <td>1249</td>\n",
       "      <td>87.99</td>\n",
       "      <td>Short Sale</td>\n",
       "      <td>2</td>\n",
       "    </tr>\n",
       "  </tbody>\n",
       "</table>\n",
       "</div>"
      ],
      "text/plain": [
       "   MLS_ID   Price  Bedrooms  Bathrooms  Size  Price/SQ.Ft      Status  \\\n",
       "0  132842  795000         3          3  2371       335.30  Short Sale   \n",
       "1  134364  399000         4          3  2818       141.59  Short Sale   \n",
       "2  135141  545000         4          3  3032       179.75  Short Sale   \n",
       "3  135712  909000         4          4  3540       256.78  Short Sale   \n",
       "4  136282  109900         3          1  1249        87.99  Short Sale   \n",
       "\n",
       "   Status_cat  \n",
       "0           2  \n",
       "1           2  \n",
       "2           2  \n",
       "3           2  \n",
       "4           2  "
      ]
     },
     "execution_count": 15,
     "metadata": {},
     "output_type": "execute_result"
    }
   ],
   "source": [
    "# Approach 2 - Another approach to encoding categorical values is to use a technique called label encoding.\n",
    "# Label encoding is simply converting each value in a column to a number.\n",
    "\n",
    "# One trick you can use in pandas is to convert a column to a category, then use those category \n",
    "# values for your label encoding. \n",
    "\n",
    "df[\"Status\"] = df[\"Status\"].astype('category')\n",
    "df.dtypes\n",
    "\n",
    "# Then you can assign the encoded variable to a new column using the cat.codes accessor.\n",
    "df[\"Status_cat\"] = df[\"Status\"].cat.codes\n",
    "df.head()"
   ]
  },
  {
   "cell_type": "code",
   "execution_count": 16,
   "metadata": {
    "colab": {},
    "colab_type": "code",
    "id": "yEr05kWSpGok",
    "outputId": "7b87163a-8746-436f-f44a-f65631ee3559"
   },
   "outputs": [
    {
     "data": {
      "text/html": [
       "<div>\n",
       "<style scoped>\n",
       "    .dataframe tbody tr th:only-of-type {\n",
       "        vertical-align: middle;\n",
       "    }\n",
       "\n",
       "    .dataframe tbody tr th {\n",
       "        vertical-align: top;\n",
       "    }\n",
       "\n",
       "    .dataframe thead th {\n",
       "        text-align: right;\n",
       "    }\n",
       "</style>\n",
       "<table border=\"1\" class=\"dataframe\">\n",
       "  <thead>\n",
       "    <tr style=\"text-align: right;\">\n",
       "      <th></th>\n",
       "      <th>MLS_ID</th>\n",
       "      <th>Price</th>\n",
       "      <th>Bedrooms</th>\n",
       "      <th>Bathrooms</th>\n",
       "      <th>Size</th>\n",
       "      <th>Price/SQ.Ft</th>\n",
       "      <th>Status_cat</th>\n",
       "      <th>new_Foreclosure</th>\n",
       "      <th>new_Regular</th>\n",
       "      <th>new_Short Sale</th>\n",
       "    </tr>\n",
       "  </thead>\n",
       "  <tbody>\n",
       "    <tr>\n",
       "      <th>0</th>\n",
       "      <td>132842</td>\n",
       "      <td>795000</td>\n",
       "      <td>3</td>\n",
       "      <td>3</td>\n",
       "      <td>2371</td>\n",
       "      <td>335.30</td>\n",
       "      <td>2</td>\n",
       "      <td>0</td>\n",
       "      <td>0</td>\n",
       "      <td>1</td>\n",
       "    </tr>\n",
       "    <tr>\n",
       "      <th>1</th>\n",
       "      <td>134364</td>\n",
       "      <td>399000</td>\n",
       "      <td>4</td>\n",
       "      <td>3</td>\n",
       "      <td>2818</td>\n",
       "      <td>141.59</td>\n",
       "      <td>2</td>\n",
       "      <td>0</td>\n",
       "      <td>0</td>\n",
       "      <td>1</td>\n",
       "    </tr>\n",
       "    <tr>\n",
       "      <th>2</th>\n",
       "      <td>135141</td>\n",
       "      <td>545000</td>\n",
       "      <td>4</td>\n",
       "      <td>3</td>\n",
       "      <td>3032</td>\n",
       "      <td>179.75</td>\n",
       "      <td>2</td>\n",
       "      <td>0</td>\n",
       "      <td>0</td>\n",
       "      <td>1</td>\n",
       "    </tr>\n",
       "    <tr>\n",
       "      <th>3</th>\n",
       "      <td>135712</td>\n",
       "      <td>909000</td>\n",
       "      <td>4</td>\n",
       "      <td>4</td>\n",
       "      <td>3540</td>\n",
       "      <td>256.78</td>\n",
       "      <td>2</td>\n",
       "      <td>0</td>\n",
       "      <td>0</td>\n",
       "      <td>1</td>\n",
       "    </tr>\n",
       "    <tr>\n",
       "      <th>4</th>\n",
       "      <td>136282</td>\n",
       "      <td>109900</td>\n",
       "      <td>3</td>\n",
       "      <td>1</td>\n",
       "      <td>1249</td>\n",
       "      <td>87.99</td>\n",
       "      <td>2</td>\n",
       "      <td>0</td>\n",
       "      <td>0</td>\n",
       "      <td>1</td>\n",
       "    </tr>\n",
       "  </tbody>\n",
       "</table>\n",
       "</div>"
      ],
      "text/plain": [
       "   MLS_ID   Price  Bedrooms  Bathrooms  Size  Price/SQ.Ft  Status_cat  \\\n",
       "0  132842  795000         3          3  2371       335.30           2   \n",
       "1  134364  399000         4          3  2818       141.59           2   \n",
       "2  135141  545000         4          3  3032       179.75           2   \n",
       "3  135712  909000         4          4  3540       256.78           2   \n",
       "4  136282  109900         3          1  1249        87.99           2   \n",
       "\n",
       "   new_Foreclosure  new_Regular  new_Short Sale  \n",
       "0                0            0               1  \n",
       "1                0            0               1  \n",
       "2                0            0               1  \n",
       "3                0            0               1  \n",
       "4                0            0               1  "
      ]
     },
     "execution_count": 16,
     "metadata": {},
     "output_type": "execute_result"
    }
   ],
   "source": [
    "\"\"\"Approach 3 - Label encoding has the advantage that it is straightforward but it has the \n",
    "   disadvantage that the numeric values can be “misinterpreted” by the algorithms. For example, \n",
    "   the value of 1 is obviously less than the value of 3 but does that really correspond to the data set in real life?\n",
    "   For example, is \"Foreclosure\" =1 closer to \"Short Sale\" =2 compared to \"Regular\" =3?\n",
    "\n",
    "   A common alternative approach is called one hot encoding. The basic strategy is to convert each category value \n",
    "   into a new column and assigns a 1 or 0 (True/False) value to the column. This has the benefit of not weighting \n",
    "   a value improperly but does have the downside of adding more columns to the data set.\n",
    "\n",
    "   Pandas supports this feature using get_dummies. This function is named this way because it creates \n",
    "   dummy/indicator variables (aka 1 or 0).\"\"\"\n",
    "\n",
    "pd.get_dummies(df, columns=[\"Status\"], prefix=[\"new\"]).head()\n",
    "\n",
    "# basically, it creates a 3 new columns (one for each unique value in the column.) with the prefix \"new_\""
   ]
  },
  {
   "cell_type": "markdown",
   "metadata": {
    "colab_type": "text",
    "id": "2L8Z7JNMpGom"
   },
   "source": [
    "# Submission Instructions"
   ]
  },
  {
   "cell_type": "markdown",
   "metadata": {
    "colab_type": "text",
    "id": "JoTBnXuepGon"
   },
   "source": [
    "\n",
    "\n",
    "\n",
    "\n",
    "\n",
    "Upload the .ipyn notbook to iLearn.\n",
    "\n",
    "Have the TA check your lab to obtain credit."
   ]
  },
  {
   "cell_type": "code",
   "execution_count": null,
   "metadata": {
    "colab": {},
    "colab_type": "code",
    "id": "VS0plkafpGon"
   },
   "outputs": [],
   "source": []
  }
 ],
 "metadata": {
  "colab": {
   "collapsed_sections": [],
   "name": "1B. Exploratory Data Analysis.ipynb",
   "provenance": []
  },
  "kernelspec": {
   "display_name": "Python 3",
   "language": "python",
   "name": "python3"
  },
  "language_info": {
   "codemirror_mode": {
    "name": "ipython",
    "version": 2
   },
   "file_extension": ".py",
   "mimetype": "text/x-python",
   "name": "python",
   "nbconvert_exporter": "python",
   "pygments_lexer": "ipython2",
   "version": "2.7.17"
  }
 },
 "nbformat": 4,
 "nbformat_minor": 2
}
