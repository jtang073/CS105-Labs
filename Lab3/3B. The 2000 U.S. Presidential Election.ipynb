{
 "cells": [
  {
   "cell_type": "markdown",
   "metadata": {},
   "source": [
    "# The 2000 U.S. Presidential Election\n",
    "\n",
    "The 2000 presidential election---between Republican George W. Bush, Democrat Al Gore, and other third-party candidates---was one of the closest in American history. The election came down to one state, Florida, which Bush won by just 537 votes (out of nearly 6,000,000 votes cast in the state).\n",
    "\n",
    "After Election Day, Democrats claimed that the \"butterfly ballot\" that was used in Palm Beach County confused Gore voters into voting for Reform Party candidate Pat Buchanan. The ballot in question is shown below. To vote for Gore, who is listed second on the left, a voter actually had to punch the third hole (because the second hole is actually a vote for Buchanan, who is listed first on the right).\n",
    "\n",
    "![](butterfly.jpg)\n",
    "\n",
    "In this lab, you will evaluate this. The data file `florida.csv` contains county-level information about:\n",
    "\n",
    "- the number of votes for Gore, Bush, Buchanan (and a few other candidates) in the 2000 presidential election\n",
    "- the number of votes for Clinton (Democrat), Dole (Republican), and Perot (Reform) in the 1996 presidential election\n",
    "- the number of votes for Buchanan in the 1996 primary\n",
    "- the number of registered Reform voters and the total number of registered voters\n",
    "\n",
    "Using this data, evaluate the claim that many voters in Palm Beach County voted for Buchanan when they intended to vote for Gore. (_Hint:_ You should check whether Palm Beach County fits the general pattern of the other counties in Florida. Visualizations will likely be more helpful than summary statistics.) Then, craft a story that guides the reader through your discoveries. Your story should contain both figures and explanations."
   ]
  },
  {
   "cell_type": "code",
   "execution_count": 1,
   "metadata": {},
   "outputs": [
    {
     "data": {
      "text/html": [
       "<div>\n",
       "<style scoped>\n",
       "    .dataframe tbody tr th:only-of-type {\n",
       "        vertical-align: middle;\n",
       "    }\n",
       "\n",
       "    .dataframe tbody tr th {\n",
       "        vertical-align: top;\n",
       "    }\n",
       "\n",
       "    .dataframe thead th {\n",
       "        text-align: right;\n",
       "    }\n",
       "</style>\n",
       "<table border=\"1\" class=\"dataframe\">\n",
       "  <thead>\n",
       "    <tr style=\"text-align: right;\">\n",
       "      <th></th>\n",
       "      <th>county</th>\n",
       "      <th>buchanan2000</th>\n",
       "      <th>gore2000</th>\n",
       "      <th>bush2000</th>\n",
       "      <th>nader2000</th>\n",
       "      <th>browne2000</th>\n",
       "      <th>total2000</th>\n",
       "      <th>clinton96</th>\n",
       "      <th>dole96</th>\n",
       "      <th>perot96</th>\n",
       "      <th>buchanan96p</th>\n",
       "      <th>reform.reg</th>\n",
       "      <th>total.reg</th>\n",
       "    </tr>\n",
       "  </thead>\n",
       "  <tbody>\n",
       "    <tr>\n",
       "      <th>0</th>\n",
       "      <td>ALACHUA</td>\n",
       "      <td>262</td>\n",
       "      <td>47,300</td>\n",
       "      <td>34,062</td>\n",
       "      <td>3,215</td>\n",
       "      <td>658</td>\n",
       "      <td>85,235</td>\n",
       "      <td>40,144</td>\n",
       "      <td>25,303</td>\n",
       "      <td>8,072</td>\n",
       "      <td>2,151</td>\n",
       "      <td>91</td>\n",
       "      <td>120,867</td>\n",
       "    </tr>\n",
       "    <tr>\n",
       "      <th>1</th>\n",
       "      <td>BAKER</td>\n",
       "      <td>73</td>\n",
       "      <td>2,392</td>\n",
       "      <td>5,610</td>\n",
       "      <td>53</td>\n",
       "      <td>17</td>\n",
       "      <td>8,072</td>\n",
       "      <td>2,273</td>\n",
       "      <td>3,684</td>\n",
       "      <td>667</td>\n",
       "      <td>73</td>\n",
       "      <td>4</td>\n",
       "      <td>12,352</td>\n",
       "    </tr>\n",
       "    <tr>\n",
       "      <th>2</th>\n",
       "      <td>BAY</td>\n",
       "      <td>248</td>\n",
       "      <td>18,850</td>\n",
       "      <td>38,637</td>\n",
       "      <td>828</td>\n",
       "      <td>171</td>\n",
       "      <td>58,486</td>\n",
       "      <td>17,020</td>\n",
       "      <td>28,290</td>\n",
       "      <td>5,922</td>\n",
       "      <td>1,816</td>\n",
       "      <td>55</td>\n",
       "      <td>92,749</td>\n",
       "    </tr>\n",
       "    <tr>\n",
       "      <th>3</th>\n",
       "      <td>BRADFORD</td>\n",
       "      <td>65</td>\n",
       "      <td>3,072</td>\n",
       "      <td>5,413</td>\n",
       "      <td>84</td>\n",
       "      <td>28</td>\n",
       "      <td>8,597</td>\n",
       "      <td>3,356</td>\n",
       "      <td>4,038</td>\n",
       "      <td>819</td>\n",
       "      <td>155</td>\n",
       "      <td>3</td>\n",
       "      <td>13,547</td>\n",
       "    </tr>\n",
       "    <tr>\n",
       "      <th>4</th>\n",
       "      <td>BREVARD</td>\n",
       "      <td>570</td>\n",
       "      <td>97,318</td>\n",
       "      <td>115,185</td>\n",
       "      <td>4,470</td>\n",
       "      <td>643</td>\n",
       "      <td>217,616</td>\n",
       "      <td>80,416</td>\n",
       "      <td>87,980</td>\n",
       "      <td>25,249</td>\n",
       "      <td>7,927</td>\n",
       "      <td>148</td>\n",
       "      <td>283,680</td>\n",
       "    </tr>\n",
       "  </tbody>\n",
       "</table>\n",
       "</div>"
      ],
      "text/plain": [
       "     county buchanan2000 gore2000 bush2000 nader2000 browne2000 total2000  \\\n",
       "0   ALACHUA          262   47,300   34,062     3,215        658    85,235   \n",
       "1     BAKER           73    2,392    5,610        53         17     8,072   \n",
       "2       BAY          248   18,850   38,637       828        171    58,486   \n",
       "3  BRADFORD           65    3,072    5,413        84         28     8,597   \n",
       "4   BREVARD          570   97,318  115,185     4,470        643   217,616   \n",
       "\n",
       "  clinton96  dole96 perot96 buchanan96p  reform.reg total.reg  \n",
       "0    40,144  25,303   8,072       2,151          91   120,867  \n",
       "1     2,273   3,684     667          73           4    12,352  \n",
       "2    17,020  28,290   5,922       1,816          55    92,749  \n",
       "3     3,356   4,038     819         155           3    13,547  \n",
       "4    80,416  87,980  25,249       7,927         148   283,680  "
      ]
     },
     "execution_count": 1,
     "metadata": {},
     "output_type": "execute_result"
    }
   ],
   "source": [
    "# YOUR CODE HERE -- Done\n",
    "import pandas as pd\n",
    "df = pd.read_csv(\"florida.csv\")\n",
    "df.head()"
   ]
  },
  {
   "cell_type": "code",
   "execution_count": 2,
   "metadata": {},
   "outputs": [
    {
     "data": {
      "text/html": [
       "<div>\n",
       "<style scoped>\n",
       "    .dataframe tbody tr th:only-of-type {\n",
       "        vertical-align: middle;\n",
       "    }\n",
       "\n",
       "    .dataframe tbody tr th {\n",
       "        vertical-align: top;\n",
       "    }\n",
       "\n",
       "    .dataframe thead th {\n",
       "        text-align: right;\n",
       "    }\n",
       "</style>\n",
       "<table border=\"1\" class=\"dataframe\">\n",
       "  <thead>\n",
       "    <tr style=\"text-align: right;\">\n",
       "      <th></th>\n",
       "      <th>county</th>\n",
       "      <th>buchanan2000</th>\n",
       "      <th>gore2000</th>\n",
       "      <th>bush2000</th>\n",
       "      <th>nader2000</th>\n",
       "      <th>browne2000</th>\n",
       "      <th>total2000</th>\n",
       "      <th>clinton96</th>\n",
       "      <th>dole96</th>\n",
       "      <th>perot96</th>\n",
       "      <th>buchanan96p</th>\n",
       "      <th>reform.reg</th>\n",
       "      <th>total.reg</th>\n",
       "    </tr>\n",
       "  </thead>\n",
       "  <tbody>\n",
       "    <tr>\n",
       "      <th>66</th>\n",
       "      <td>PALM BEACH</td>\n",
       "      <td>3407</td>\n",
       "      <td>268945</td>\n",
       "      <td>152846</td>\n",
       "      <td>5564</td>\n",
       "      <td>743</td>\n",
       "      <td>428098</td>\n",
       "      <td>230621</td>\n",
       "      <td>133762</td>\n",
       "      <td>30739</td>\n",
       "      <td>8788</td>\n",
       "      <td>9</td>\n",
       "      <td>14358</td>\n",
       "    </tr>\n",
       "  </tbody>\n",
       "</table>\n",
       "</div>"
      ],
      "text/plain": [
       "        county buchanan2000 gore2000 bush2000 nader2000 browne2000 total2000  \\\n",
       "66  PALM BEACH         3407   268945   152846      5564        743    428098   \n",
       "\n",
       "   clinton96  dole96 perot96 buchanan96p  reform.reg total.reg  \n",
       "66    230621  133762   30739        8788           9     14358  "
      ]
     },
     "execution_count": 2,
     "metadata": {},
     "output_type": "execute_result"
    }
   ],
   "source": [
    "%matplotlib inline\n",
    "df.buchanan2000 = df.buchanan2000.str.replace(',', '')\n",
    "df.gore2000 = df.gore2000.str.replace(',', '')\n",
    "df.bush2000 = df.bush2000.str.replace(',', '')\n",
    "df.nader2000 = df.nader2000.str.replace(',', '')\n",
    "df.browne2000 = df.browne2000.str.replace(',', '')\n",
    "df.total2000 = df.total2000.str.replace(',', '')\n",
    "df.clinton96 = df.clinton96.str.replace(',', '')\n",
    "df.dole96 = df.dole96.str.replace(',', '')\n",
    "df.perot96 = df.perot96.str.replace(',', '')\n",
    "df.buchanan96p = df.buchanan96p.str.replace(',', '')\n",
    "#df['reform.reg'] = df['reform.reg'].str.replace(',', '')\n",
    "df['total.reg'] = df['total.reg'].str.replace(',', '')\n",
    "\n",
    "totalMean = df.buchanan2000.mean()\n",
    "PBMean = df.loc[df['county'] == 'PALM BEACH'].buchanan2000.sum()\n",
    "\n",
    "df.loc[df['county'] == 'PALM BEACH']"
   ]
  },
  {
   "cell_type": "code",
   "execution_count": 3,
   "metadata": {},
   "outputs": [
    {
     "data": {
      "text/html": [
       "<div>\n",
       "<style scoped>\n",
       "    .dataframe tbody tr th:only-of-type {\n",
       "        vertical-align: middle;\n",
       "    }\n",
       "\n",
       "    .dataframe tbody tr th {\n",
       "        vertical-align: top;\n",
       "    }\n",
       "\n",
       "    .dataframe thead th {\n",
       "        text-align: right;\n",
       "    }\n",
       "</style>\n",
       "<table border=\"1\" class=\"dataframe\">\n",
       "  <thead>\n",
       "    <tr style=\"text-align: right;\">\n",
       "      <th></th>\n",
       "      <th>county</th>\n",
       "      <th>buchanan2000</th>\n",
       "      <th>gore2000</th>\n",
       "      <th>bush2000</th>\n",
       "      <th>nader2000</th>\n",
       "      <th>browne2000</th>\n",
       "      <th>total2000</th>\n",
       "      <th>clinton96</th>\n",
       "      <th>dole96</th>\n",
       "      <th>perot96</th>\n",
       "      <th>buchanan96p</th>\n",
       "      <th>reform.reg</th>\n",
       "      <th>total.reg</th>\n",
       "    </tr>\n",
       "  </thead>\n",
       "  <tbody>\n",
       "    <tr>\n",
       "      <th>0</th>\n",
       "      <td>ALACHUA</td>\n",
       "      <td>0.307385</td>\n",
       "      <td>55.493635</td>\n",
       "      <td>39.962457</td>\n",
       "      <td>3.771925</td>\n",
       "      <td>0.771983</td>\n",
       "      <td>85235</td>\n",
       "      <td>33.213367</td>\n",
       "      <td>20.934581</td>\n",
       "      <td>6.678415</td>\n",
       "      <td>1.779642</td>\n",
       "      <td>91</td>\n",
       "      <td>120867</td>\n",
       "    </tr>\n",
       "    <tr>\n",
       "      <th>1</th>\n",
       "      <td>BAKER</td>\n",
       "      <td>0.904361</td>\n",
       "      <td>29.633300</td>\n",
       "      <td>69.499504</td>\n",
       "      <td>0.656591</td>\n",
       "      <td>0.210605</td>\n",
       "      <td>8072</td>\n",
       "      <td>18.401878</td>\n",
       "      <td>29.825130</td>\n",
       "      <td>5.399935</td>\n",
       "      <td>0.590997</td>\n",
       "      <td>4</td>\n",
       "      <td>12352</td>\n",
       "    </tr>\n",
       "    <tr>\n",
       "      <th>2</th>\n",
       "      <td>BAY</td>\n",
       "      <td>0.424033</td>\n",
       "      <td>32.229935</td>\n",
       "      <td>66.061964</td>\n",
       "      <td>1.415723</td>\n",
       "      <td>0.292378</td>\n",
       "      <td>58486</td>\n",
       "      <td>18.350602</td>\n",
       "      <td>30.501677</td>\n",
       "      <td>6.384975</td>\n",
       "      <td>1.957973</td>\n",
       "      <td>55</td>\n",
       "      <td>92749</td>\n",
       "    </tr>\n",
       "    <tr>\n",
       "      <th>3</th>\n",
       "      <td>BRADFORD</td>\n",
       "      <td>0.756078</td>\n",
       "      <td>35.733395</td>\n",
       "      <td>62.963825</td>\n",
       "      <td>0.977085</td>\n",
       "      <td>0.325695</td>\n",
       "      <td>8597</td>\n",
       "      <td>24.773012</td>\n",
       "      <td>29.807337</td>\n",
       "      <td>6.045619</td>\n",
       "      <td>1.144165</td>\n",
       "      <td>3</td>\n",
       "      <td>13547</td>\n",
       "    </tr>\n",
       "    <tr>\n",
       "      <th>4</th>\n",
       "      <td>BREVARD</td>\n",
       "      <td>0.261929</td>\n",
       "      <td>44.720057</td>\n",
       "      <td>52.930391</td>\n",
       "      <td>2.054077</td>\n",
       "      <td>0.295475</td>\n",
       "      <td>217616</td>\n",
       "      <td>28.347434</td>\n",
       "      <td>31.013818</td>\n",
       "      <td>8.900522</td>\n",
       "      <td>2.794346</td>\n",
       "      <td>148</td>\n",
       "      <td>283680</td>\n",
       "    </tr>\n",
       "  </tbody>\n",
       "</table>\n",
       "</div>"
      ],
      "text/plain": [
       "     county  buchanan2000   gore2000   bush2000  nader2000  browne2000  \\\n",
       "0   ALACHUA      0.307385  55.493635  39.962457   3.771925    0.771983   \n",
       "1     BAKER      0.904361  29.633300  69.499504   0.656591    0.210605   \n",
       "2       BAY      0.424033  32.229935  66.061964   1.415723    0.292378   \n",
       "3  BRADFORD      0.756078  35.733395  62.963825   0.977085    0.325695   \n",
       "4   BREVARD      0.261929  44.720057  52.930391   2.054077    0.295475   \n",
       "\n",
       "   total2000  clinton96     dole96   perot96  buchanan96p  reform.reg  \\\n",
       "0      85235  33.213367  20.934581  6.678415     1.779642          91   \n",
       "1       8072  18.401878  29.825130  5.399935     0.590997           4   \n",
       "2      58486  18.350602  30.501677  6.384975     1.957973          55   \n",
       "3       8597  24.773012  29.807337  6.045619     1.144165           3   \n",
       "4     217616  28.347434  31.013818  8.900522     2.794346         148   \n",
       "\n",
       "   total.reg  \n",
       "0     120867  \n",
       "1      12352  \n",
       "2      92749  \n",
       "3      13547  \n",
       "4     283680  "
      ]
     },
     "execution_count": 3,
     "metadata": {},
     "output_type": "execute_result"
    }
   ],
   "source": [
    "df_percent = df\n",
    "df_percent.loc[:,'buchanan2000':'total.reg'] = df_percent.loc[:,'buchanan2000':'total.reg'].astype(int)\n",
    "df_percent.loc[:,'buchanan2000':'browne2000'] = df_percent.loc[:,'buchanan2000':'browne2000'].divide(df_percent['total2000'], axis=0)\n",
    "df_percent.loc[:,'buchanan2000':'browne2000'] = df_percent.loc[:,'buchanan2000':'browne2000'] * 100\n",
    "df_percent.loc[:,'clinton96':'buchanan96p'] = df_percent.loc[:,'clinton96':'buchanan96p'].divide(df_percent['total.reg'], axis=0)\n",
    "df_percent.loc[:,'clinton96':'buchanan96p'] = df_percent.loc[:,'clinton96':'buchanan96p'] * 100\n",
    "df_percent.head()"
   ]
  },
  {
   "cell_type": "markdown",
   "metadata": {},
   "source": [
    "This table shows the percentage of each candidate. It is clear that the majority of the votes in 2000 belonged to Gore and Bush in Florida. I also want to note that Buchanan received low votes in majority of the counties."
   ]
  },
  {
   "cell_type": "code",
   "execution_count": 4,
   "metadata": {},
   "outputs": [
    {
     "data": {
      "text/plain": [
       "buchanan2000     0.469747\n",
       "gore2000        42.842173\n",
       "bush2000        55.253577\n",
       "nader2000        1.559755\n",
       "browne2000       0.344495\n",
       "clinton96       65.738526\n",
       "dole96          53.573630\n",
       "perot96         13.681530\n",
       "buchanan96p      3.687157\n",
       "dtype: float64"
      ]
     },
     "execution_count": 4,
     "metadata": {},
     "output_type": "execute_result"
    }
   ],
   "source": [
    "df_percent = df_percent.drop([\"total2000\", \"reform.reg\", \"total.reg\"], axis=1)\n",
    "df_percent.mean(axis=0)"
   ]
  },
  {
   "cell_type": "markdown",
   "metadata": {},
   "source": [
    "This is the median percentage of each candidate throughout the entire state of Florida"
   ]
  },
  {
   "cell_type": "code",
   "execution_count": 5,
   "metadata": {},
   "outputs": [
    {
     "data": {
      "text/html": [
       "<div>\n",
       "<style scoped>\n",
       "    .dataframe tbody tr th:only-of-type {\n",
       "        vertical-align: middle;\n",
       "    }\n",
       "\n",
       "    .dataframe tbody tr th {\n",
       "        vertical-align: top;\n",
       "    }\n",
       "\n",
       "    .dataframe thead th {\n",
       "        text-align: right;\n",
       "    }\n",
       "</style>\n",
       "<table border=\"1\" class=\"dataframe\">\n",
       "  <thead>\n",
       "    <tr style=\"text-align: right;\">\n",
       "      <th></th>\n",
       "      <th>county</th>\n",
       "      <th>buchanan2000</th>\n",
       "      <th>gore2000</th>\n",
       "      <th>bush2000</th>\n",
       "      <th>nader2000</th>\n",
       "      <th>browne2000</th>\n",
       "      <th>clinton96</th>\n",
       "      <th>dole96</th>\n",
       "      <th>perot96</th>\n",
       "      <th>buchanan96p</th>\n",
       "    </tr>\n",
       "  </thead>\n",
       "  <tbody>\n",
       "    <tr>\n",
       "      <th>66</th>\n",
       "      <td>PALM BEACH</td>\n",
       "      <td>0.795846</td>\n",
       "      <td>62.823232</td>\n",
       "      <td>35.703507</td>\n",
       "      <td>1.299702</td>\n",
       "      <td>0.173558</td>\n",
       "      <td>1606.219529</td>\n",
       "      <td>931.620003</td>\n",
       "      <td>214.089706</td>\n",
       "      <td>61.206296</td>\n",
       "    </tr>\n",
       "  </tbody>\n",
       "</table>\n",
       "</div>"
      ],
      "text/plain": [
       "        county  buchanan2000   gore2000   bush2000  nader2000  browne2000  \\\n",
       "66  PALM BEACH      0.795846  62.823232  35.703507   1.299702    0.173558   \n",
       "\n",
       "      clinton96      dole96     perot96  buchanan96p  \n",
       "66  1606.219529  931.620003  214.089706    61.206296  "
      ]
     },
     "execution_count": 5,
     "metadata": {},
     "output_type": "execute_result"
    }
   ],
   "source": [
    "PB = df_percent.loc[df_percent['county'] == 'PALM BEACH']\n",
    "PB"
   ]
  },
  {
   "cell_type": "markdown",
   "metadata": {},
   "source": [
    "According to this table entry, the county of Palm Beach does follow the general pattern of the state of Florida. The only difference to note is that there was an increase in voter turnout for this county due to population growth."
   ]
  },
  {
   "cell_type": "code",
   "execution_count": 6,
   "metadata": {},
   "outputs": [
    {
     "name": "stdout",
     "output_type": "stream",
     "text": [
      "('Florida Median', 0.46974696644930847)\n",
      "('Palm Beach Median', 0.7958458110058911)\n"
     ]
    }
   ],
   "source": [
    "print(\"Florida Median\", df.buchanan2000.mean())\n",
    "print(\"Palm Beach Median\",PB.buchanan2000.mean())"
   ]
  },
  {
   "cell_type": "markdown",
   "metadata": {},
   "source": [
    "Palm Beach's median vote for Buchanan is doubled of the median of the entire Florida. But maybe Palm Beach really likes Buchanan more than other "
   ]
  },
  {
   "cell_type": "code",
   "execution_count": 7,
   "metadata": {},
   "outputs": [
    {
     "data": {
      "text/plain": [
       "<matplotlib.axes._subplots.AxesSubplot at 0x7f4b6f3d6310>"
      ]
     },
     "execution_count": 7,
     "metadata": {},
     "output_type": "execute_result"
    },
    {
     "data": {
      "image/png": "[encoded data removed]",
      "text/plain": [
       "<Figure size 432x288 with 1 Axes>"
      ]
     },
     "metadata": {
      "needs_background": "light"
     },
     "output_type": "display_data"
    }
   ],
   "source": [
    "PB2000 = PB.loc[:,'buchanan2000':'browne2000']\n",
    "PB2000.plot.bar()"
   ]
  },
  {
   "cell_type": "code",
   "execution_count": 8,
   "metadata": {},
   "outputs": [
    {
     "data": {
      "text/plain": [
       "<matplotlib.axes._subplots.AxesSubplot at 0x7f4ba0e5cd90>"
      ]
     },
     "execution_count": 8,
     "metadata": {},
     "output_type": "execute_result"
    },
    {
     "data": {
      "image/png": "[encoded data removed]",
      "text/plain": [
       "<Figure size 432x288 with 1 Axes>"
      ]
     },
     "metadata": {
      "needs_background": "light"
     },
     "output_type": "display_data"
    }
   ],
   "source": [
    "PB96 = PB.loc[:,'clinton96':'buchanan96p']\n",
    "PB96.plot.bar()"
   ]
  },
  {
   "cell_type": "code",
   "execution_count": 9,
   "metadata": {},
   "outputs": [
    {
     "name": "stdout",
     "output_type": "stream",
     "text": [
      "('Average vote for Buchanan in Florida', 3.921380396374313e+170)\n",
      "('Average vote for Buchanan in Palm Beach', '3407')\n"
     ]
    }
   ],
   "source": [
    "print(\"Average vote for Buchanan in Florida\", totalMean)\n",
    "print(\"Average vote for Buchanan in Palm Beach\", PBMean)"
   ]
  },
  {
   "cell_type": "markdown",
   "metadata": {},
   "source": [
    "Both the average total votes for Buchanan in Palm Beach and the percentage of votes for Buchanan in Palm Beach has significantly increased. Unless the county of Palm Beach decided to vote for Buchanan rather than the majority, then there must be some interference with the votes. In this case, although correlation does not imply causation, we can firmly say that the data does suggests that there was a butterly ballot in effect in Palm Beach due to the random rise of votes for Buchanan in 2000."
   ]
  },
  {
   "cell_type": "markdown",
   "metadata": {},
   "source": [
    "# Submission Instructions\n",
    "\n",
    "Once you are finished, follow these steps:\n",
    "\n",
    "1. Restart the kernel and re-run this notebook from beginning to end by going to `Kernel > Restart Kernel and Run All Cells`.\n",
    "2. If this process stops halfway through, that means there was an error. Correct the error and repeat Step 1 until the notebook runs from beginning to end.\n",
    "3. Double check that there is a number next to each code cell and that these numbers are in order.\n",
    "\n",
    "Then, submit your lab as follows:\n",
    "\n",
    "1. Go to `File > Export Notebook As > PDF`.\n",
    "2. Double check that the entire notebook, from beginning to end, is in this PDF file. (If the notebook is cut off, try first exporting the notebook to HTML and printing to PDF.)\n",
    "3. Upload the PDF and Notebook to iLearn."
   ]
  }
 ],
 "metadata": {
  "kernelspec": {
   "display_name": "Python 3",
   "language": "python",
   "name": "python3"
  },
  "language_info": {
   "codemirror_mode": {
    "name": "ipython",
    "version": 2
   },
   "file_extension": ".py",
   "mimetype": "text/x-python",
   "name": "python",
   "nbconvert_exporter": "python",
   "pygments_lexer": "ipython2",
   "version": "2.7.17"
  }
 },
 "nbformat": 4,
 "nbformat_minor": 2
}
