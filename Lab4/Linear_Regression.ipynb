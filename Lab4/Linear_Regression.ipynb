{
 "cells": [
  {
   "cell_type": "markdown",
   "metadata": {
    "colab_type": "text",
    "id": "tz5MYp2mgc1O"
   },
   "source": [
    "# Linear Regression\n",
    "\n",
    "In 1991, Orley Ashenfelter, an economics professor at Princeton University, stunned the wine world with a bold prediction. He predicted that the 1990 vintage of Bordeaux wines would be the \"wine of the century,'' even better than the prized 1961 vintage. Furthermore, he made this prediction without tasting even a drop of the wine, which had been placed in oak barrels just months earlier.\n",
    "\n",
    "How did Ashenfelter predict the quality of the wine without tasting it? He used data on past vintages to come up with the following formula for predicting wine quality:\n",
    "\n",
    "\\begin{align}\n",
    "    \\widehat{\\text{wine quality}} = -7.8 &+ 0.62 \\cdot (\\text{average summer temperature}) \\nonumber \\\\\n",
    "    &+ 0.0012 \\cdot (\\text{winter rainfall}) \\nonumber \\\\\n",
    "    &- 0.0037 \\cdot (\\text{harvest rainfall}) \\nonumber \\\\\n",
    "    &+ 0.024 \\cdot (\\text{age of the wine})\n",
    "    \\label{eq:ashenfelter}\n",
    "\\end{align}\n",
    "\n",
    "The variable on the left-hand side of this expression, wine quality, is what we are trying to predict and is called \n",
    "the _target_ (or _label_). (The hat symbol over  \"wine quality\" indicates that the values are predicted instead of observed.) The variables on the right-hand side, such as \"average summer temperature\" and \"harvest rainfall,\" are called _features_ and are the inputs used to predict the target. Although Ashenfelter had no way of knowing the quality of the 1990 wines, he did have the values of the features in 1990, so to make a prediction, all he had to do was plug those values into the equation above. In this way, he arrived at the following prediction for the quality of the 1990 Bordeaux, after they had been aged for 31 years (like the 1961 Bordeaux had been at the time):\n",
    "\n",
    "\\begin{align}\n",
    "    -7.8 &+ 0.62 \\cdot (18.7) \\nonumber \\\\\n",
    "    &+ 0.0012 \\cdot (468) \\nonumber \\\\\n",
    "    &- 0.0037 \\cdot (80) \\nonumber \\\\\n",
    "    &+ 0.024 \\cdot (31) = 4.8.  \\label{eq:ashenfelter_1990}\n",
    "\\end{align}\n",
    "\n",
    "For comparison, the quality of the prized 1961 vintage was 4.6.\n",
    "\n",
    "You can imagine the uproar from wine experts, who had spent years refining their palates to distinguish good wines from bad. Robert Parker, the most influential wine critic in America, called Ashenfelter's predictions \"ludicrous and absurd\", comparing him to a \"movie critic who never goes to see the movie but tells you how good it is based on the actors and the director.\" It did not help that Ashenfelter had also openly challenged Parker's rating of the 1986 Bordeaux. Parker thought they would be \"very good and sometimes exceptional.\" But according to Ashenfelter's formula, the low summer temperatures and high harvest rainfalls in 1986 doomed the vintage.\n",
    "\n",
    "Who was right? Thirty years later, Robert Parker ranks the 1986 Bordeaux well, but the 1990 Bordeaux wines are exceptional, with three of the six wines scoring a 98 on a 100-point scale.\n",
    "\n",
    "We will reproduce Ashenfelter's analysis, which is an example of _machine learning_. Machine learning is concerned with the general problem of how to use data to make predictions. The process of producing a model like Ashenfelter's from data is called _fitting_ a model (although the terms _training_ or _learning_ are also used), and the data that is used to fit the model is the\n",
    "_training data_."
   ]
  },
  {
   "cell_type": "markdown",
   "metadata": {
    "colab_type": "text",
    "id": "kBuD03vngc12"
   },
   "source": [
    "## Getting Familiar with the Data\n",
    "\n",
    "First, we read in the historical data that Ashenfelter used. The observational unit in this data set is the vintage, so we index this `DataFrame` by the year."
   ]
  },
  {
   "cell_type": "code",
   "execution_count": 6,
   "metadata": {
    "colab": {
     "base_uri": "https://localhost:8080/",
     "height": 225
    },
    "colab_type": "code",
    "executionInfo": {
     "elapsed": 358,
     "status": "ok",
     "timestamp": 1595274198486,
     "user": {
      "displayName": "Mariam Salloum",
      "photoUrl": "https://lh3.googleusercontent.com/a-/AOh14GjESp3KZ04yLjAJjTVgf3vJym8HDrMI8o-7aIJENA=s64",
      "userId": "08206316293294396347"
     },
     "user_tz": 420
    },
    "id": "80drpebdgc14",
    "outputId": "2a0978fe-ec5b-4331-86ad-af9e89dfbb93"
   },
   "outputs": [
    {
     "data": {
      "text/html": [
       "<div>\n",
       "<style scoped>\n",
       "    .dataframe tbody tr th:only-of-type {\n",
       "        vertical-align: middle;\n",
       "    }\n",
       "\n",
       "    .dataframe tbody tr th {\n",
       "        vertical-align: top;\n",
       "    }\n",
       "\n",
       "    .dataframe thead th {\n",
       "        text-align: right;\n",
       "    }\n",
       "</style>\n",
       "<table border=\"1\" class=\"dataframe\">\n",
       "  <thead>\n",
       "    <tr style=\"text-align: right;\">\n",
       "      <th></th>\n",
       "      <th>price</th>\n",
       "      <th>summer</th>\n",
       "      <th>har</th>\n",
       "      <th>sep</th>\n",
       "      <th>win</th>\n",
       "      <th>age</th>\n",
       "    </tr>\n",
       "    <tr>\n",
       "      <th>year</th>\n",
       "      <th></th>\n",
       "      <th></th>\n",
       "      <th></th>\n",
       "      <th></th>\n",
       "      <th></th>\n",
       "      <th></th>\n",
       "    </tr>\n",
       "  </thead>\n",
       "  <tbody>\n",
       "    <tr>\n",
       "      <th>1952</th>\n",
       "      <td>37.0</td>\n",
       "      <td>17.1</td>\n",
       "      <td>160</td>\n",
       "      <td>14.3</td>\n",
       "      <td>600</td>\n",
       "      <td>40</td>\n",
       "    </tr>\n",
       "    <tr>\n",
       "      <th>1953</th>\n",
       "      <td>63.0</td>\n",
       "      <td>16.7</td>\n",
       "      <td>80</td>\n",
       "      <td>17.3</td>\n",
       "      <td>690</td>\n",
       "      <td>39</td>\n",
       "    </tr>\n",
       "    <tr>\n",
       "      <th>1955</th>\n",
       "      <td>45.0</td>\n",
       "      <td>17.1</td>\n",
       "      <td>130</td>\n",
       "      <td>16.8</td>\n",
       "      <td>502</td>\n",
       "      <td>37</td>\n",
       "    </tr>\n",
       "    <tr>\n",
       "      <th>1957</th>\n",
       "      <td>22.0</td>\n",
       "      <td>16.1</td>\n",
       "      <td>110</td>\n",
       "      <td>16.2</td>\n",
       "      <td>420</td>\n",
       "      <td>35</td>\n",
       "    </tr>\n",
       "    <tr>\n",
       "      <th>1958</th>\n",
       "      <td>18.0</td>\n",
       "      <td>16.4</td>\n",
       "      <td>187</td>\n",
       "      <td>19.1</td>\n",
       "      <td>582</td>\n",
       "      <td>34</td>\n",
       "    </tr>\n",
       "  </tbody>\n",
       "</table>\n",
       "</div>"
      ],
      "text/plain": [
       "      price  summer  har   sep  win  age\n",
       "year                                    \n",
       "1952   37.0    17.1  160  14.3  600   40\n",
       "1953   63.0    16.7   80  17.3  690   39\n",
       "1955   45.0    17.1  130  16.8  502   37\n",
       "1957   22.0    16.1  110  16.2  420   35\n",
       "1958   18.0    16.4  187  19.1  582   34"
      ]
     },
     "execution_count": 6,
     "metadata": {
      "tags": []
     },
     "output_type": "execute_result"
    }
   ],
   "source": [
    "import pandas as pd\n",
    "data_dir = \"\"\n",
    "bordeaux_df = pd.read_csv(\"bordeaux.csv\",index_col=\"year\")\n",
    "bordeaux_df.head()"
   ]
  },
  {
   "cell_type": "markdown",
   "metadata": {
    "colab_type": "text",
    "id": "24fRMKkZgc1_"
   },
   "source": [
    "The **price** column is in 1981 dollars, normalized so that the 1961 Bordeaux has a price of 100. Price is a reasonable proxy for the quality of the wine. The **summer** column contains the average summer temperature (in degrees Celsius), while the **har** and **win** columns contain the harvest and winter rainfalls (in millimeters). The **sep** column stores the average temperature in September, which Ashenfelter did not include in his model."
   ]
  },
  {
   "cell_type": "markdown",
   "metadata": {
    "colab_type": "text",
    "id": "vL21wyW0gc2B"
   },
   "source": [
    "Let us also take a peek at the end of this `DataFrame`."
   ]
  },
  {
   "cell_type": "code",
   "execution_count": 7,
   "metadata": {
    "colab": {
     "base_uri": "https://localhost:8080/",
     "height": 225
    },
    "colab_type": "code",
    "executionInfo": {
     "elapsed": 335,
     "status": "ok",
     "timestamp": 1595274201499,
     "user": {
      "displayName": "Mariam Salloum",
      "photoUrl": "https://lh3.googleusercontent.com/a-/AOh14GjESp3KZ04yLjAJjTVgf3vJym8HDrMI8o-7aIJENA=s64",
      "userId": "08206316293294396347"
     },
     "user_tz": 420
    },
    "id": "pY5XHupXgc2C",
    "outputId": "ad76a8b9-3ed5-4d58-9176-b021e34e6e18"
   },
   "outputs": [
    {
     "data": {
      "text/html": [
       "<div>\n",
       "<style scoped>\n",
       "    .dataframe tbody tr th:only-of-type {\n",
       "        vertical-align: middle;\n",
       "    }\n",
       "\n",
       "    .dataframe tbody tr th {\n",
       "        vertical-align: top;\n",
       "    }\n",
       "\n",
       "    .dataframe thead th {\n",
       "        text-align: right;\n",
       "    }\n",
       "</style>\n",
       "<table border=\"1\" class=\"dataframe\">\n",
       "  <thead>\n",
       "    <tr style=\"text-align: right;\">\n",
       "      <th></th>\n",
       "      <th>price</th>\n",
       "      <th>summer</th>\n",
       "      <th>har</th>\n",
       "      <th>sep</th>\n",
       "      <th>win</th>\n",
       "      <th>age</th>\n",
       "    </tr>\n",
       "    <tr>\n",
       "      <th>year</th>\n",
       "      <th></th>\n",
       "      <th></th>\n",
       "      <th></th>\n",
       "      <th></th>\n",
       "      <th></th>\n",
       "      <th></th>\n",
       "    </tr>\n",
       "  </thead>\n",
       "  <tbody>\n",
       "    <tr>\n",
       "      <th>1987</th>\n",
       "      <td>NaN</td>\n",
       "      <td>17.0</td>\n",
       "      <td>115</td>\n",
       "      <td>18.9</td>\n",
       "      <td>452</td>\n",
       "      <td>5</td>\n",
       "    </tr>\n",
       "    <tr>\n",
       "      <th>1988</th>\n",
       "      <td>NaN</td>\n",
       "      <td>17.1</td>\n",
       "      <td>59</td>\n",
       "      <td>16.8</td>\n",
       "      <td>808</td>\n",
       "      <td>4</td>\n",
       "    </tr>\n",
       "    <tr>\n",
       "      <th>1989</th>\n",
       "      <td>NaN</td>\n",
       "      <td>18.6</td>\n",
       "      <td>82</td>\n",
       "      <td>18.4</td>\n",
       "      <td>443</td>\n",
       "      <td>3</td>\n",
       "    </tr>\n",
       "    <tr>\n",
       "      <th>1990</th>\n",
       "      <td>NaN</td>\n",
       "      <td>18.7</td>\n",
       "      <td>80</td>\n",
       "      <td>19.3</td>\n",
       "      <td>468</td>\n",
       "      <td>2</td>\n",
       "    </tr>\n",
       "    <tr>\n",
       "      <th>1991</th>\n",
       "      <td>NaN</td>\n",
       "      <td>17.7</td>\n",
       "      <td>183</td>\n",
       "      <td>20.4</td>\n",
       "      <td>570</td>\n",
       "      <td>1</td>\n",
       "    </tr>\n",
       "  </tbody>\n",
       "</table>\n",
       "</div>"
      ],
      "text/plain": [
       "      price  summer  har   sep  win  age\n",
       "year                                    \n",
       "1987    NaN    17.0  115  18.9  452    5\n",
       "1988    NaN    17.1   59  16.8  808    4\n",
       "1989    NaN    18.6   82  18.4  443    3\n",
       "1990    NaN    18.7   80  19.3  468    2\n",
       "1991    NaN    17.7  183  20.4  570    1"
      ]
     },
     "execution_count": 7,
     "metadata": {
      "tags": []
     },
     "output_type": "execute_result"
    }
   ],
   "source": [
    "bordeaux_df.tail()"
   ]
  },
  {
   "cell_type": "markdown",
   "metadata": {
    "colab_type": "text",
    "id": "28uXMx4kgc2H"
   },
   "source": [
    "We see that the `DataFrame` also contains data for vintages where the price is missing (including 1990, the vintage for which Ashenfelter made his prediction). In fact, prices are only available up to 1980, as it takes several years before wine quality can be estimated with much reliability), so only part of the `DataFrame` can be used for training. The rest of the data, where the features are known but the target is not, is called the _test data_. Machine learning fits a model to the training data, which is then used to predict the targets in the test data. The following code splits the `DataFrame` into the training and test sets."
   ]
  },
  {
   "cell_type": "code",
   "execution_count": 8,
   "metadata": {
    "colab": {},
    "colab_type": "code",
    "executionInfo": {
     "elapsed": 333,
     "status": "ok",
     "timestamp": 1595274203870,
     "user": {
      "displayName": "Mariam Salloum",
      "photoUrl": "https://lh3.googleusercontent.com/a-/AOh14GjESp3KZ04yLjAJjTVgf3vJym8HDrMI8o-7aIJENA=s64",
      "userId": "08206316293294396347"
     },
     "user_tz": 420
    },
    "id": "BQ8xffEcgc2J"
   },
   "outputs": [],
   "source": [
    "bordeaux_train = bordeaux_df.loc[:1980].copy()\n",
    "bordeaux_test = bordeaux_df.loc[1981:].copy()\n",
    "\n",
    "\n",
    "from sklearn.preprocessing import StandardScaler\n",
    "scaler = StandardScaler()\n",
    "\n",
    "# build the scaler on training \n",
    "scaler.fit(bordeaux_train) # computing the mean and std for the features \n",
    "bordeaux_train_scaled = scaler.transform(bordeaux_train) # identify the subset of features that should be scaled \n",
    "\n",
    "#scaler.fit(bordeaux_test) # computing the mean and std for the features \n",
    "bordeaux_test_scaled = scaler.transform(bordeaux_test) # identify the subset of features that should be scaled \n",
    "\n",
    "\n",
    "\n"
   ]
  },
  {
   "cell_type": "markdown",
   "metadata": {
    "colab_type": "text",
    "id": "TXbNNzWRgc2O"
   },
   "source": [
    "## Warm-Up: A Model with One Feature\n",
    "\n",
    "Before fitting a model that uses all of the features, we first consider a model that uses only the age of the wine to predict the price. That is, we fit a model of the form\n",
    "\\begin{equation}\n",
    "    \\widehat{\\text{price}} = b + c \\cdot \\text{age},\n",
    "    \\label{eq:simple_linear_regression}\n",
    "\\end{equation}\n",
    "where $b$ and $c$ are numbers that we will learn from the training data. Models of the form above are called _linear regression_ models. (The way in which this model is \"linear\" will become apparent in a moment.) This model only involves two variables, **age** and **price**, so we can visualize the data easily using a scatterplot (see Chapter 3)."
   ]
  },
  {
   "cell_type": "code",
   "execution_count": 9,
   "metadata": {
    "colab": {
     "base_uri": "https://localhost:8080/",
     "height": 296
    },
    "colab_type": "code",
    "executionInfo": {
     "elapsed": 501,
     "status": "ok",
     "timestamp": 1595274206429,
     "user": {
      "displayName": "Mariam Salloum",
      "photoUrl": "https://lh3.googleusercontent.com/a-/AOh14GjESp3KZ04yLjAJjTVgf3vJym8HDrMI8o-7aIJENA=s64",
      "userId": "08206316293294396347"
     },
     "user_tz": 420
    },
    "id": "v3KbYMldgc2Q",
    "outputId": "232c4bcd-42e3-4361-bbcd-9a203edd692b"
   },
   "outputs": [
    {
     "data": {
      "text/plain": [
       "<matplotlib.axes._subplots.AxesSubplot at 0x7fdd8d090470>"
      ]
     },
     "execution_count": 9,
     "metadata": {
      "tags": []
     },
     "output_type": "execute_result"
    },
    {
     "data": {
      "image/png": "[encoded data removed]",
      "text/plain": [
       "<Figure size 432x288 with 1 Axes>"
      ]
     },
     "metadata": {
      "needs_background": "light",
      "tags": []
     },
     "output_type": "display_data"
    }
   ],
   "source": [
    "bordeaux_train.plot.scatter(x=\"age\", y=\"price\")"
   ]
  },
  {
   "cell_type": "markdown",
   "metadata": {
    "colab_type": "text",
    "id": "ejFCGYtlgc2Y"
   },
   "source": [
    "Now, to fit models like the above to the training data, we use the scikit-learn package, which was used in Chapter 3 for transforming variables and calculating distances. However, its main purpose is to fit machine learning models, including linear regression. All models in scikit-learn are used in essentially the same way, following the three-step pattern:\n",
    "\n",
    "1. Declare the model.\n",
    "2. Fit the model to training data.\n",
    "3. Use the model to predict on test data.\n",
    "\n",
    "In the case of the linear regression model above, the code is as follows."
   ]
  },
  {
   "cell_type": "code",
   "execution_count": 13,
   "metadata": {
    "colab": {
     "base_uri": "https://localhost:8080/",
     "height": 67
    },
    "colab_type": "code",
    "executionInfo": {
     "elapsed": 1167,
     "status": "ok",
     "timestamp": 1595274235663,
     "user": {
      "displayName": "Mariam Salloum",
      "photoUrl": "https://lh3.googleusercontent.com/a-/AOh14GjESp3KZ04yLjAJjTVgf3vJym8HDrMI8o-7aIJENA=s64",
      "userId": "08206316293294396347"
     },
     "user_tz": 420
    },
    "id": "M5tdMqZugc2b",
    "outputId": "1a9ec9be-3a24-49b7-b832-a2ffef4093d8"
   },
   "outputs": [
    {
     "data": {
      "text/plain": [
       "array([12.41648163, 11.26046336, 10.1044451 ,  8.94842683,  7.79240856,\n",
       "        6.6363903 ,  5.48037203,  4.32435376,  3.1683355 ,  2.01231723,\n",
       "        0.85629897])"
      ]
     },
     "execution_count": 13,
     "metadata": {
      "tags": []
     },
     "output_type": "execute_result"
    }
   ],
   "source": [
    "from sklearn.linear_model import LinearRegression\n",
    "\n",
    "X_train = bordeaux_train[[\"age\"]] # training data features \n",
    "X_test = bordeaux_test[[\"age\"]] # test data features \n",
    "y_train = bordeaux_train[\"price\"] # training data target variable y\n",
    "\n",
    "model = LinearRegression()\n",
    "model.fit(X=X_train, y=y_train) # Input = features and target variable Y from the training data \n",
    "model.predict(X=X_test) # Input = features from test   # Output = predicted y "
   ]
  },
  {
   "cell_type": "markdown",
   "metadata": {
    "colab_type": "text",
    "id": "vXNLm4DHgc2l"
   },
   "source": [
    "The parameters of `.fit()` are `X` for the features and `y` for the targets, which are assumed to be 2-D and 1-D arrays of numbers, respectively. So even when there is only one feature, as in this case, we still need to supply a 2-D array with one column---hence, the double brackets around `\"age\"` when defining `X_train` and `X_test`.\n",
    "\n",
    "By contrast, `.predict()` only has one parameter, `X` for the features. That is because its job is to predict the targets `y` for the given features. Note that the predictions will always be returned in the form of `numpy` arrays, no matter the type of the input data---so although we supplied `pandas` objects, `sklearn` still returned the predicted values as `numpy` arrays. The predictions are in the same order as the rows of `X`."
   ]
  },
  {
   "cell_type": "markdown",
   "metadata": {
    "colab_type": "text",
    "id": "XFtfFRqRgc2v"
   },
   "source": [
    "Because there are only two variables involved, the model above is a rare example of a machine learning model we can visualize. A general way to do this is to generate a fine grid of `X` values using `np.linspace()` and call `model.predict()` to get the predicted target at each of these values. We can then use these predictions to draw a curve which depicts the predicted value of `y` at each value of `X`. In the code below, we put the predictions in a `pandas` `Series`, indexed by the `X` values, and then call `.plot.line()`."
   ]
  },
  {
   "cell_type": "code",
   "execution_count": 14,
   "metadata": {
    "colab": {
     "base_uri": "https://localhost:8080/",
     "height": 296
    },
    "colab_type": "code",
    "executionInfo": {
     "elapsed": 455,
     "status": "ok",
     "timestamp": 1595274238705,
     "user": {
      "displayName": "Mariam Salloum",
      "photoUrl": "https://lh3.googleusercontent.com/a-/AOh14GjESp3KZ04yLjAJjTVgf3vJym8HDrMI8o-7aIJENA=s64",
      "userId": "08206316293294396347"
     },
     "user_tz": 420
    },
    "id": "imqK17uOgc20",
    "outputId": "abf8a90a-f362-4398-b7c9-52f36160b404"
   },
   "outputs": [
    {
     "data": {
      "text/plain": [
       "<matplotlib.axes._subplots.AxesSubplot at 0x7fdd7f6044a8>"
      ]
     },
     "execution_count": 14,
     "metadata": {
      "tags": []
     },
     "output_type": "execute_result"
    },
    {
     "data": {
      "image/png": "[encoded data removed]",
      "text/plain": [
       "<Figure size 432x288 with 1 Axes>"
      ]
     },
     "metadata": {
      "needs_background": "light",
      "tags": []
     },
     "output_type": "display_data"
    }
   ],
   "source": [
    "import numpy as np\n",
    "\n",
    "X_new = pd.DataFrame()\n",
    "# create a sequence of 200 evenly spaced numbers from 10 to 41\n",
    "X_new[\"age\"] = np.linspace(10, 41, num=200)\n",
    "\n",
    "# create a Series out of the predicted values\n",
    "# (trailing underscore indicates fitted values)\n",
    "y_new_ = pd.Series(\n",
    "    model.predict(X_new), # y values in Series.plot.line()\n",
    "    index=X_new[\"age\"]    # x values in Series.plot.line()\n",
    ")\n",
    "\n",
    "# plot the data, then the model\n",
    "bordeaux_train.plot.scatter(x=\"age\", y=\"price\")\n",
    "y_new_.plot.line()"
   ]
  },
  {
   "cell_type": "markdown",
   "metadata": {
    "colab_type": "text",
    "id": "4I42T5aGgc3E"
   },
   "source": [
    "The resulting plot is shown above. Notice that the curve is a straight line, which is why this model is called  _linear_ regression. In hindsight, this is obvious from the model equation: $b$ is simply the intercept and $c$ the slope of this line. All linear regression does is choose the intercept and slope to minimize the total squared distance between the points and the line---that is, between the observed and predicted prices. In mathematical terms, $b$ and $c$ are chosen to minimize\n",
    "\\begin{align}\n",
    "    & \\text{sum of } (\\text{price} - \\widehat{\\text{price}})^2 &= & & \\text{sum of } (\\text{price} - (b + c\\cdot \\text{age}))^2 \\\\\n",
    "    & \\text{over training data } &\\phantom{=} & & \\text{ over training data}.\n",
    "\\end{align}\n",
    "Since `sklearn` does this optimization for us, it is not necessary to understand the details of this process to extract useful insights out of linear regression. However, the math is explained in the appendix of this lesson for those who are curious."
   ]
  },
  {
   "cell_type": "markdown",
   "metadata": {
    "colab_type": "text",
    "id": "HjyNFyiNgc3J"
   },
   "source": [
    "## What to Do about Nonlinearity\n",
    "\n",
    "One question is whether the relationship between age and price is truly linear. In the graph above, it seems that the points deviate more from the line when prices are high than when they are low. To correct this, we need to spread out low prices and rein in high prices. Previously, we learned that this can be achieved by applying a log transformation to the prices. Let's add a column to the training data for the log-price."
   ]
  },
  {
   "cell_type": "code",
   "execution_count": 15,
   "metadata": {
    "colab": {},
    "colab_type": "code",
    "executionInfo": {
     "elapsed": 438,
     "status": "ok",
     "timestamp": 1595274241998,
     "user": {
      "displayName": "Mariam Salloum",
      "photoUrl": "https://lh3.googleusercontent.com/a-/AOh14GjESp3KZ04yLjAJjTVgf3vJym8HDrMI8o-7aIJENA=s64",
      "userId": "08206316293294396347"
     },
     "user_tz": 420
    },
    "id": "OEdVbxqugc3O"
   },
   "outputs": [],
   "source": [
    "bordeaux_train[\"log(price)\"] = np.log(bordeaux_train[\"price\"])"
   ]
  },
  {
   "cell_type": "markdown",
   "metadata": {
    "colab_type": "text",
    "id": "DKsRIkhdgc3V"
   },
   "source": [
    "Now, we will fit a linear regression model to predict this new target. That is, in contrast to the previous model, we now fit the model \n",
    "\\begin{equation}\n",
    "    \\widehat{\\text{log(price)}} = b + c \\cdot \\text{age},\n",
    "    \\label{eq:simple_linear_regression_log}\n",
    "\\end{equation}\n",
    "where $b$ and $c$ are chosen to minimize \n",
    "\\begin{equation}\n",
    "    \\text{sum of } (\\text{log(price)} - \\widehat{\\text{log(price)}})^2 \\text{ over training data}\n",
    "\\end{equation}\n",
    "over the training data. The code below fits this model."
   ]
  },
  {
   "cell_type": "code",
   "execution_count": 20,
   "metadata": {
    "colab": {
     "base_uri": "https://localhost:8080/",
     "height": 470
    },
    "colab_type": "code",
    "executionInfo": {
     "elapsed": 344,
     "status": "ok",
     "timestamp": 1595274327922,
     "user": {
      "displayName": "Mariam Salloum",
      "photoUrl": "https://lh3.googleusercontent.com/a-/AOh14GjESp3KZ04yLjAJjTVgf3vJym8HDrMI8o-7aIJENA=s64",
      "userId": "08206316293294396347"
     },
     "user_tz": 420
    },
    "id": "G9yKnE3QwTx8",
    "outputId": "697fbe54-ea91-48db-e008-e144acc8b6c9"
   },
   "outputs": [
    {
     "name": "stdout",
     "output_type": "stream",
     "text": [
      "[[ 1.8307451 ]\n",
      " [ 1.70716981]\n",
      " [ 1.46001922]\n",
      " [ 1.21286863]\n",
      " [ 1.08929334]\n",
      " [ 0.96571804]\n",
      " [ 0.84214275]\n",
      " [ 0.71856745]\n",
      " [ 0.59499216]\n",
      " [ 0.47141686]\n",
      " [ 0.34784157]\n",
      " [ 0.22426628]\n",
      " [ 0.10069098]\n",
      " [-0.02288431]\n",
      " [-0.14645961]\n",
      " [-0.2700349 ]\n",
      " [-0.3936102 ]\n",
      " [-0.51718549]\n",
      " [-0.64076079]\n",
      " [-0.76433608]\n",
      " [-0.88791138]\n",
      " [-1.01148667]\n",
      " [-1.13506196]\n",
      " [-1.25863726]\n",
      " [-1.38221255]\n",
      " [-1.50578785]\n",
      " [-1.62936314]]\n"
     ]
    }
   ],
   "source": [
    "from sklearn.preprocessing import StandardScaler\n",
    "scaler = StandardScaler()\n",
    "scaler.fit(bordeaux_train[[\"age\"]]) # computing the mean and std for the features \n",
    "X_scaled = scaler.transform(bordeaux_train[[\"age\"]]) # identify the subset of features that should be scaled \n",
    "\n",
    "print (X_scaled)"
   ]
  },
  {
   "cell_type": "code",
   "execution_count": 21,
   "metadata": {
    "colab": {
     "base_uri": "https://localhost:8080/",
     "height": 34
    },
    "colab_type": "code",
    "executionInfo": {
     "elapsed": 331,
     "status": "ok",
     "timestamp": 1595274347485,
     "user": {
      "displayName": "Mariam Salloum",
      "photoUrl": "https://lh3.googleusercontent.com/a-/AOh14GjESp3KZ04yLjAJjTVgf3vJym8HDrMI8o-7aIJENA=s64",
      "userId": "08206316293294396347"
     },
     "user_tz": 420
    },
    "id": "leZ3mYykgc3W",
    "outputId": "d56b52ca-a322-4e28-b4f0-00c97824f4d4"
   },
   "outputs": [
    {
     "data": {
      "text/plain": [
       "LinearRegression(copy_X=True, fit_intercept=True, n_jobs=None, normalize=False)"
      ]
     },
     "execution_count": 21,
     "metadata": {
      "tags": []
     },
     "output_type": "execute_result"
    }
   ],
   "source": [
    "log_price_model = LinearRegression()\n",
    "\n",
    "log_price_model.fit(X=X_scaled,\n",
    "                    y=bordeaux_train[\"log(price)\"])\n"
   ]
  },
  {
   "cell_type": "code",
   "execution_count": 22,
   "metadata": {
    "colab": {
     "base_uri": "https://localhost:8080/",
     "height": 296
    },
    "colab_type": "code",
    "executionInfo": {
     "elapsed": 539,
     "status": "ok",
     "timestamp": 1595274351120,
     "user": {
      "displayName": "Mariam Salloum",
      "photoUrl": "https://lh3.googleusercontent.com/a-/AOh14GjESp3KZ04yLjAJjTVgf3vJym8HDrMI8o-7aIJENA=s64",
      "userId": "08206316293294396347"
     },
     "user_tz": 420
    },
    "id": "M9ds8dWjwps_",
    "outputId": "ca1352f2-3eee-4655-d0a3-f1f9a4ff76ed"
   },
   "outputs": [
    {
     "data": {
      "text/plain": [
       "<matplotlib.axes._subplots.AxesSubplot at 0x7fdd7f57c0b8>"
      ]
     },
     "execution_count": 22,
     "metadata": {
      "tags": []
     },
     "output_type": "execute_result"
    },
    {
     "data": {
      "image/png": "[encoded data removed]",
      "text/plain": [
       "<Figure size 432x288 with 1 Axes>"
      ]
     },
     "metadata": {
      "needs_background": "light",
      "tags": []
     },
     "output_type": "display_data"
    }
   ],
   "source": [
    "\n",
    "X_new = pd.DataFrame()\n",
    "X_new[\"age\"] = np.linspace(10, 41, num=200) \n",
    "y_new_ = pd.Series(\n",
    "    log_price_model.predict(X_new),\n",
    "    index=X_scaled\n",
    ")\n",
    "    \n",
    "bordeaux_train.plot.scatter(x=\"age\", y=\"log(price)\")\n",
    "y_new_.plot.line()"
   ]
  },
  {
   "cell_type": "markdown",
   "metadata": {
    "colab_type": "text",
    "id": "nRPZ83ixgc3b"
   },
   "source": [
    "The points are more evenly spread out when the target is log-price instead of price. For this reason, Ashenfelter chose log-price to be the measure of \"wine quality\" in his linear regression model."
   ]
  },
  {
   "cell_type": "markdown",
   "metadata": {
    "colab_type": "text",
    "id": "27CMYtQLgc3d"
   },
   "source": [
    "## Fitting Ashenfelter's Model\n",
    "\n",
    "We are now ready to reproduce Ashenfelter's analysis. To do so, we will need to fit a linear regression model that predicts the log-price from the average summer temperature, winter rainfall, harvest rainfall, and the age of the wine. In other words, the model is of the form\n",
    "\\begin{align}\n",
    "    \\widehat{\\text{log(price)}} = b &+ c_1 \\cdot (\\text{average summer temperature}) \\nonumber \\\\\n",
    "    &+ c_2 \\cdot (\\text{winter rainfall}) \\nonumber \\\\\n",
    "    &+ c_3 \\cdot (\\text{harvest rainfall}) \\nonumber \\\\\n",
    "    &+ c_4 \\cdot (\\text{age of the wine}), \\label{eq:multiple_linear_regression}\n",
    "\\end{align}\n",
    "where $b, c_1, c_2, c_3, c_4$ are chosen to minimize \n",
    "\\begin{equation}\n",
    "    \\text{sum of } (\\text{log(price)} - \\widehat{\\text{log(price)}})^2 \\text{ over training data.}\n",
    "\\end{equation}\n",
    "This is still a _linear regression_ model, albeit a more complicated one.\n",
    "\n",
    "The code to fit this model is the natural extension of the code we wrote to fit the earlier models in this lesson. Instead of passing `bordeaux_train[[\"age\"]]` for `X`, we now supply a `DataFrame` containing all of the features we want to be in the model."
   ]
  },
  {
   "cell_type": "code",
   "execution_count": null,
   "metadata": {
    "colab": {},
    "colab_type": "code",
    "id": "I7gTVpC_gc3f",
    "outputId": "e9aeb895-8275-46a7-c9f0-53149cb98666"
   },
   "outputs": [
    {
     "data": {
      "text/plain": [
       "LinearRegression(copy_X=True, fit_intercept=True, n_jobs=None,\n",
       "         normalize=False)"
      ]
     },
     "execution_count": 20,
     "metadata": {
      "tags": []
     },
     "output_type": "execute_result"
    }
   ],
   "source": [
    "ashen_model = LinearRegression()\n",
    "ashen_model.fit(\n",
    "    X=bordeaux_train[[\"summer\", \"win\", \"har\", \"age\"]],\n",
    "    y=bordeaux_train[\"log(price)\"]\n",
    ")"
   ]
  },
  {
   "cell_type": "markdown",
   "metadata": {
    "colab_type": "text",
    "id": "hE_Ke72dgc35"
   },
   "source": [
    "This model is much harder to visualize, since it involves five variables: four features, plus the target. Nevertheless, we can obtain predictions from it just as we did with the simpler models above. We just need to supply the values of all of the features in the model, in the same order as in the training data."
   ]
  },
  {
   "cell_type": "code",
   "execution_count": null,
   "metadata": {
    "colab": {},
    "colab_type": "code",
    "id": "VizNj96-gc36",
    "outputId": "b6f54e97-e883-4efb-9313-52880a9df033"
   },
   "outputs": [
    {
     "data": {
      "text/plain": [
       "array([3.17926885, 3.4231464 , 3.71919787, 2.83391541, 3.48195778,\n",
       "       2.4330387 , 2.91879638, 3.5924235 , 3.97294747, 4.04789338,\n",
       "       3.14087609])"
      ]
     },
     "execution_count": 21,
     "metadata": {
      "tags": []
     },
     "output_type": "execute_result"
    }
   ],
   "source": [
    "ashen_model.predict(\n",
    "    X=bordeaux_test[[\"summer\", \"win\", \"har\", \"age\"]]\n",
    ")"
   ]
  },
  {
   "cell_type": "markdown",
   "metadata": {
    "colab_type": "text",
    "id": "yfpP96Nggc4C"
   },
   "source": [
    "## Communication Corner: Interpreting the Model\n",
    "\n",
    "Even though we cannot visualize Ashenfelter's model, we can still \n",
    "interpret the model by examining the values of the _intercept_ $b$ and the _coefficients_ $c_1, c_2, c_3, c_4$.\n",
    "\n",
    "The coefficients are saved in the `.coef_` attribute, after the model has been fitted. (As above, the trailing underscore in `.coef_` reminds us that these are fitted values.)"
   ]
  },
  {
   "cell_type": "code",
   "execution_count": null,
   "metadata": {
    "colab": {},
    "colab_type": "code",
    "id": "8SGCnIk_gc4E",
    "outputId": "0174d24f-b4a3-4d82-cad7-01f20e9938c4"
   },
   "outputs": [
    {
     "data": {
      "text/plain": [
       "array([ 0.61871092,  0.00119721, -0.00374825,  0.02435187])"
      ]
     },
     "execution_count": 12,
     "metadata": {
      "tags": []
     },
     "output_type": "execute_result"
    }
   ],
   "source": [
    "ashen_model.coef_"
   ]
  },
  {
   "cell_type": "markdown",
   "metadata": {
    "colab_type": "text",
    "id": "CGVfEskHgc4L"
   },
   "source": [
    "These coefficients are in the same order as the columns of `X`. So $0.61871092$ is the coefficient for **summer**, $0.00119721$ the coefficient for **win**, and so on. If you compare these values with the model at the beginning of this lesson, you will see that they are exactly the coefficients that Ashenfelter obtained. \n",
    "\n",
    "A positive coefficient means that the predicted target _increases_ as that feature increases, while a negative coefficient means that it _decreases_ as that feature increases. Since **win** has a positive coefficient $(0.0012)$ and **har** has a negative coefficient $(-0.0037)$, we conclude from the model that Bordeaux wines tend to be best when winter rainfall is high and harvest rainfall is low.\n",
    "\n",
    "Another essential component of a linear regression model is the _intercept_, which is stored in the `.intercept_` attribute, separately from the coefficients."
   ]
  },
  {
   "cell_type": "code",
   "execution_count": null,
   "metadata": {
    "colab": {},
    "colab_type": "code",
    "id": "6oc0NmtLgc4M",
    "outputId": "0fa15a2a-1027-4778-8b92-928145cfbf86"
   },
   "outputs": [
    {
     "data": {
      "text/plain": [
       "-7.831137841446707"
      ]
     },
     "execution_count": 13,
     "metadata": {
      "tags": []
     },
     "output_type": "execute_result"
    }
   ],
   "source": [
    "ashen_model.intercept_"
   ]
  },
  {
   "cell_type": "markdown",
   "metadata": {
    "colab_type": "text",
    "id": "KxOtqiSdgc4Z"
   },
   "source": [
    "In principle, the intercept is the predicted value when all of the features are equal to $0$. However, this interpretation is often purely hypothetical, since it may be impossible for some features to be $0$. For example, to interpret the intercept of $-7.8$ in the model above, we would have to set **summer** equal to $0$. That is, we would have to imagine a summer in Bordeaux, France where the average temperature was $0^\\circ\\text{C}$ (i.e., freezing), which would be so catastrophic that the quality of red wine would be the least of our worries!"
   ]
  },
  {
   "cell_type": "markdown",
   "metadata": {
    "colab_type": "text",
    "id": "6dZ46xkKgc4b"
   },
   "source": [
    "# Exercises"
   ]
  },
  {
   "cell_type": "markdown",
   "metadata": {
    "colab_type": "text",
    "id": "9qMHm1fOgc4l"
   },
   "source": [
    "_Exercises 1-3 ask you to fit linear regression models to the Ames housing data set (AmesHousing.txt ), which contains information about homes in Ames, Iowa._"
   ]
  },
  {
   "cell_type": "code",
   "execution_count": 1,
   "metadata": {},
   "outputs": [
    {
     "data": {
      "text/html": [
       "<div>\n",
       "<style scoped>\n",
       "    .dataframe tbody tr th:only-of-type {\n",
       "        vertical-align: middle;\n",
       "    }\n",
       "\n",
       "    .dataframe tbody tr th {\n",
       "        vertical-align: top;\n",
       "    }\n",
       "\n",
       "    .dataframe thead th {\n",
       "        text-align: right;\n",
       "    }\n",
       "</style>\n",
       "<table border=\"1\" class=\"dataframe\">\n",
       "  <thead>\n",
       "    <tr style=\"text-align: right;\">\n",
       "      <th></th>\n",
       "      <th>PID</th>\n",
       "      <th>MS SubClass</th>\n",
       "      <th>MS Zoning</th>\n",
       "      <th>Lot Frontage</th>\n",
       "      <th>Lot Area</th>\n",
       "      <th>Street</th>\n",
       "      <th>Alley</th>\n",
       "      <th>Lot Shape</th>\n",
       "      <th>Land Contour</th>\n",
       "      <th>Utilities</th>\n",
       "      <th>...</th>\n",
       "      <th>Pool Area</th>\n",
       "      <th>Pool QC</th>\n",
       "      <th>Fence</th>\n",
       "      <th>Misc Feature</th>\n",
       "      <th>Misc Val</th>\n",
       "      <th>Mo Sold</th>\n",
       "      <th>Yr Sold</th>\n",
       "      <th>Sale Type</th>\n",
       "      <th>Sale Condition</th>\n",
       "      <th>SalePrice</th>\n",
       "    </tr>\n",
       "    <tr>\n",
       "      <th>Order</th>\n",
       "      <th></th>\n",
       "      <th></th>\n",
       "      <th></th>\n",
       "      <th></th>\n",
       "      <th></th>\n",
       "      <th></th>\n",
       "      <th></th>\n",
       "      <th></th>\n",
       "      <th></th>\n",
       "      <th></th>\n",
       "      <th></th>\n",
       "      <th></th>\n",
       "      <th></th>\n",
       "      <th></th>\n",
       "      <th></th>\n",
       "      <th></th>\n",
       "      <th></th>\n",
       "      <th></th>\n",
       "      <th></th>\n",
       "      <th></th>\n",
       "      <th></th>\n",
       "    </tr>\n",
       "  </thead>\n",
       "  <tbody>\n",
       "    <tr>\n",
       "      <th>1</th>\n",
       "      <td>526301100</td>\n",
       "      <td>20</td>\n",
       "      <td>RL</td>\n",
       "      <td>141.0</td>\n",
       "      <td>31770</td>\n",
       "      <td>Pave</td>\n",
       "      <td>NaN</td>\n",
       "      <td>IR1</td>\n",
       "      <td>Lvl</td>\n",
       "      <td>AllPub</td>\n",
       "      <td>...</td>\n",
       "      <td>0</td>\n",
       "      <td>NaN</td>\n",
       "      <td>NaN</td>\n",
       "      <td>NaN</td>\n",
       "      <td>0</td>\n",
       "      <td>5</td>\n",
       "      <td>2010</td>\n",
       "      <td>WD</td>\n",
       "      <td>Normal</td>\n",
       "      <td>215000</td>\n",
       "    </tr>\n",
       "    <tr>\n",
       "      <th>2</th>\n",
       "      <td>526350040</td>\n",
       "      <td>20</td>\n",
       "      <td>RH</td>\n",
       "      <td>80.0</td>\n",
       "      <td>11622</td>\n",
       "      <td>Pave</td>\n",
       "      <td>NaN</td>\n",
       "      <td>Reg</td>\n",
       "      <td>Lvl</td>\n",
       "      <td>AllPub</td>\n",
       "      <td>...</td>\n",
       "      <td>0</td>\n",
       "      <td>NaN</td>\n",
       "      <td>MnPrv</td>\n",
       "      <td>NaN</td>\n",
       "      <td>0</td>\n",
       "      <td>6</td>\n",
       "      <td>2010</td>\n",
       "      <td>WD</td>\n",
       "      <td>Normal</td>\n",
       "      <td>105000</td>\n",
       "    </tr>\n",
       "    <tr>\n",
       "      <th>3</th>\n",
       "      <td>526351010</td>\n",
       "      <td>20</td>\n",
       "      <td>RL</td>\n",
       "      <td>81.0</td>\n",
       "      <td>14267</td>\n",
       "      <td>Pave</td>\n",
       "      <td>NaN</td>\n",
       "      <td>IR1</td>\n",
       "      <td>Lvl</td>\n",
       "      <td>AllPub</td>\n",
       "      <td>...</td>\n",
       "      <td>0</td>\n",
       "      <td>NaN</td>\n",
       "      <td>NaN</td>\n",
       "      <td>Gar2</td>\n",
       "      <td>12500</td>\n",
       "      <td>6</td>\n",
       "      <td>2010</td>\n",
       "      <td>WD</td>\n",
       "      <td>Normal</td>\n",
       "      <td>172000</td>\n",
       "    </tr>\n",
       "    <tr>\n",
       "      <th>4</th>\n",
       "      <td>526353030</td>\n",
       "      <td>20</td>\n",
       "      <td>RL</td>\n",
       "      <td>93.0</td>\n",
       "      <td>11160</td>\n",
       "      <td>Pave</td>\n",
       "      <td>NaN</td>\n",
       "      <td>Reg</td>\n",
       "      <td>Lvl</td>\n",
       "      <td>AllPub</td>\n",
       "      <td>...</td>\n",
       "      <td>0</td>\n",
       "      <td>NaN</td>\n",
       "      <td>NaN</td>\n",
       "      <td>NaN</td>\n",
       "      <td>0</td>\n",
       "      <td>4</td>\n",
       "      <td>2010</td>\n",
       "      <td>WD</td>\n",
       "      <td>Normal</td>\n",
       "      <td>244000</td>\n",
       "    </tr>\n",
       "    <tr>\n",
       "      <th>5</th>\n",
       "      <td>527105010</td>\n",
       "      <td>60</td>\n",
       "      <td>RL</td>\n",
       "      <td>74.0</td>\n",
       "      <td>13830</td>\n",
       "      <td>Pave</td>\n",
       "      <td>NaN</td>\n",
       "      <td>IR1</td>\n",
       "      <td>Lvl</td>\n",
       "      <td>AllPub</td>\n",
       "      <td>...</td>\n",
       "      <td>0</td>\n",
       "      <td>NaN</td>\n",
       "      <td>MnPrv</td>\n",
       "      <td>NaN</td>\n",
       "      <td>0</td>\n",
       "      <td>3</td>\n",
       "      <td>2010</td>\n",
       "      <td>WD</td>\n",
       "      <td>Normal</td>\n",
       "      <td>189900</td>\n",
       "    </tr>\n",
       "  </tbody>\n",
       "</table>\n",
       "<p>5 rows × 81 columns</p>\n",
       "</div>"
      ],
      "text/plain": [
       "             PID  MS SubClass MS Zoning  Lot Frontage  Lot Area Street Alley  \\\n",
       "Order                                                                          \n",
       "1      526301100           20        RL         141.0     31770   Pave   NaN   \n",
       "2      526350040           20        RH          80.0     11622   Pave   NaN   \n",
       "3      526351010           20        RL          81.0     14267   Pave   NaN   \n",
       "4      526353030           20        RL          93.0     11160   Pave   NaN   \n",
       "5      527105010           60        RL          74.0     13830   Pave   NaN   \n",
       "\n",
       "      Lot Shape Land Contour Utilities  ... Pool Area Pool QC  Fence  \\\n",
       "Order                                   ...                            \n",
       "1           IR1          Lvl    AllPub  ...         0     NaN    NaN   \n",
       "2           Reg          Lvl    AllPub  ...         0     NaN  MnPrv   \n",
       "3           IR1          Lvl    AllPub  ...         0     NaN    NaN   \n",
       "4           Reg          Lvl    AllPub  ...         0     NaN    NaN   \n",
       "5           IR1          Lvl    AllPub  ...         0     NaN  MnPrv   \n",
       "\n",
       "      Misc Feature Misc Val Mo Sold Yr Sold  Sale Type  Sale Condition  \\\n",
       "Order                                                                    \n",
       "1              NaN        0       5    2010        WD           Normal   \n",
       "2              NaN        0       6    2010        WD           Normal   \n",
       "3             Gar2    12500       6    2010        WD           Normal   \n",
       "4              NaN        0       4    2010        WD           Normal   \n",
       "5              NaN        0       3    2010        WD           Normal   \n",
       "\n",
       "       SalePrice  \n",
       "Order             \n",
       "1         215000  \n",
       "2         105000  \n",
       "3         172000  \n",
       "4         244000  \n",
       "5         189900  \n",
       "\n",
       "[5 rows x 81 columns]"
      ]
     },
     "execution_count": 1,
     "metadata": {},
     "output_type": "execute_result"
    }
   ],
   "source": [
    "import pandas as pd\n",
    "data_dir = \"\"\n",
    "ames_df = pd.read_csv(\"AmesHousing.txt\", sep = \"\\t\", index_col=\"Order\")\n",
    "ames_df.head()"
   ]
  },
  {
   "cell_type": "markdown",
   "metadata": {
    "colab_type": "text",
    "id": "auxey0fDgc4p"
   },
   "source": [
    "1\\. Fit a linear regression model that predicts the price of a home (**SalePrice**) using square footage (**Gr Liv Area**) as the only feature. Then, make a graph of the fitted model (this is possible because there is only one feature in this model). Do this the way we did it in the lesson, by creating a grid of `X` values and calling `model.predict()` on those `X` values."
   ]
  },
  {
   "cell_type": "code",
   "execution_count": 2,
   "metadata": {},
   "outputs": [
    {
     "name": "stderr",
     "output_type": "stream",
     "text": [
      "/home/jtang073/.local/lib/python2.7/site-packages/sklearn/preprocessing/data.py:645: DataConversionWarning: Data with input dtype int64 were all converted to float64 by StandardScaler.\n",
      "  return self.partial_fit(X, y)\n",
      "/home/jtang073/.local/lib/python2.7/site-packages/ipykernel_launcher.py:9: DataConversionWarning: Data with input dtype int64 were all converted to float64 by StandardScaler.\n",
      "  if __name__ == '__main__':\n",
      "/home/jtang073/.local/lib/python2.7/site-packages/ipykernel_launcher.py:12: DataConversionWarning: Data with input dtype int64 were all converted to float64 by StandardScaler.\n",
      "  if sys.path[0] == '':\n"
     ]
    }
   ],
   "source": [
    "ames_train = ames_df.loc[:2400, [\"SalePrice\", \"Gr Liv Area\", \"Bedroom AbvGr\", \"Full Bath\", \"Half Bath\"]].copy()\n",
    "ames_test = ames_df.loc[2401:, [\"SalePrice\", \"Gr Liv Area\", \"Bedroom AbvGr\", \"Full Bath\", \"Half Bath\"]].copy()\n",
    "\n",
    "from sklearn.preprocessing import StandardScaler\n",
    "scaler = StandardScaler()\n",
    "\n",
    "# build the scaler on training \n",
    "scaler.fit(ames_train) # computing the mean and std for the features \n",
    "ames_train_scaled = scaler.transform(ames_train) # identify the subset of features that should be scaled \n",
    "\n",
    "#scaler.fit(bordeaux_test) # computing the mean and std for the features \n",
    "ames_test_scaled = scaler.transform(ames_test) # identify the subset of features that should be scaled "
   ]
  },
  {
   "cell_type": "code",
   "execution_count": 3,
   "metadata": {},
   "outputs": [
    {
     "data": {
      "text/plain": [
       "<matplotlib.axes._subplots.AxesSubplot at 0x7f1e60919cd0>"
      ]
     },
     "execution_count": 3,
     "metadata": {},
     "output_type": "execute_result"
    },
    {
     "data": {
      "image/png": "[encoded data removed]",
      "text/plain": [
       "<Figure size 432x288 with 1 Axes>"
      ]
     },
     "metadata": {
      "needs_background": "light"
     },
     "output_type": "display_data"
    }
   ],
   "source": [
    "%matplotlib inline\n",
    "ames_train.plot.scatter(x=\"SalePrice\", y=\"Gr Liv Area\")"
   ]
  },
  {
   "cell_type": "code",
   "execution_count": 4,
   "metadata": {},
   "outputs": [
    {
     "data": {
      "text/plain": [
       "array([319235.99080034, 227278.37908915, 228394.36952254, 167014.89568619,\n",
       "       189446.30339729, 167461.29185955, 167461.29185955, 202949.78764129,\n",
       "       200717.80677452, 171590.45646308, 161658.14160593, 177282.00767336,\n",
       "       181299.57323356, 181745.96940692, 222702.81831226, 162774.13203932,\n",
       "       177282.00767336, 279618.33041506, 181299.57323356, 167014.89568619,\n",
       "       188553.51105058, 177282.00767336, 183419.955057  , 172594.84785313,\n",
       "       187549.11966053, 154069.40665889, 142239.90806498, 182861.9598403 ,\n",
       "       189669.50148397, 182192.36558027, 219912.84222879, 183196.75697032,\n",
       "       172594.84785313, 193129.07182748, 230849.548476  , 183196.75697032,\n",
       "       200494.60868784, 225604.39343907, 225269.59630905, 201275.80199121,\n",
       "       273926.77920478, 270467.20886128, 281738.7122385 , 235313.51020955,\n",
       "       264106.06339096, 419563.53076193, 333409.06930437, 229510.35995593,\n",
       "       267342.43564779, 319012.79271366, 405390.4522579 , 293121.81465905,\n",
       "       296692.9840459 , 327159.52287739, 233974.32168948, 201164.20294787,\n",
       "       248816.99445354, 200048.21251448, 195137.85460757, 182638.76175363,\n",
       "       157417.37795905, 309415.27498652, 180964.77610354, 231184.34560601,\n",
       "       188107.11487723, 206297.75894146, 190673.89287402, 155631.79326563,\n",
       "       156078.18943899, 159984.15595585, 142239.90806498, 171032.46124639,\n",
       "       141012.31858825, 142128.30902164, 144025.4927584 , 202949.78764129,\n",
       "       191678.28426407, 219801.24318545, 193687.06704417, 207971.74459154,\n",
       "       170809.26315971, 150609.83631539, 162104.53777928, 132642.39033784,\n",
       "       122486.87739401, 125053.6553908 , 207636.94746152, 199378.61825445,\n",
       "       149940.24205535, 150051.84109869, 124607.25921744, 116237.33096703,\n",
       "       118022.91566045, 129071.220951  , 119138.90609384, 116572.12809705,\n",
       "       152730.21813882, 119808.50035387, 310084.86924655, 284528.68832197,\n",
       "       330172.69704754, 296023.38978586, 270913.60503463, 196030.64695428,\n",
       "       142351.50710831, 153957.80761555, 148712.65257863, 151279.43057542,\n",
       "       151279.43057542, 148712.65257863, 184870.7426204 , 176835.61150001,\n",
       "       169023.67846629, 135320.76737797, 203842.579988  , 189781.10052731,\n",
       "       181522.77132024, 149605.44492534, 152618.61909549, 130410.40947106,\n",
       "       151614.22770544, 151614.22770544, 220359.23840215, 147931.45927526,\n",
       "       229063.96378257, 255401.33801054, 172818.04593981, 310977.66159327,\n",
       "       214556.08814853, 163666.92438603, 144695.08701843, 124160.86304409,\n",
       "       132084.39512114, 212324.10728175, 123714.46687073, 132195.99416448,\n",
       "       115009.7414903 , 132084.39512114, 142128.30902164, 148712.65257863,\n",
       "       237210.69394631, 131972.7960778 , 111215.37401678, 205851.3627681 ,\n",
       "       189446.30339729, 154404.20378891, 180853.17706021, 175496.42297994,\n",
       "       136994.75302805, 132307.59320782, 154069.40665889, 105858.61993652,\n",
       "       127285.63625757, 131191.60277443, 152060.62387879, 111773.36923348,\n",
       "        98158.28594614, 154515.80283225, 174715.22967657, 196030.64695428,\n",
       "       150498.23727205, 253169.35714376, 190897.0909607 , 207636.94746152,\n",
       "       119250.50513718, 191566.68522073, 153846.20857221, 152618.61909549,\n",
       "       255512.93705387, 140677.52145823, 362090.02344244, 127285.63625757,\n",
       "       147596.66214524, 142463.10615165, 167014.89568619, 169135.27750963,\n",
       "       163890.12247271, 167684.48994623, 136659.95589803, 140231.12528488,\n",
       "       152730.21813882, 120031.69844055, 131972.7960778 , 168242.48516292,\n",
       "       127285.63625757, 190562.29383068, 142574.70519499, 126950.83912756,\n",
       "       132642.39033784, 113447.35488356, 242344.24993989, 169246.87655297,\n",
       "       309415.27498652, 161211.74543257, 160988.5473459 ,  94363.91847262,\n",
       "       107755.80367328, 134539.5740746 ,  94587.1165593 ,  95145.111776  ,\n",
       "       140900.71954491, 192794.27469746, 211208.11684836, 150275.03918537,\n",
       "       284193.89119195, 178397.99810675, 162550.93395264, 135990.361638  ,\n",
       "       142686.30423833, 208306.54172155, 149493.845882  , 116572.12809705,\n",
       "       148043.05831859, 111215.37401678, 105858.61993652, 212658.90441177,\n",
       "       179067.59236678, 287988.25866547, 193352.26991415, 184535.94549039,\n",
       "       147819.86023192, 130856.80564442, 130856.80564442, 130856.80564442,\n",
       "       130856.80564442, 130856.80564442, 130856.80564442, 188441.91200725,\n",
       "       143132.70041169, 143132.70041169, 165229.31099277, 126281.24486753,\n",
       "       131414.80086111, 111215.37401678, 129182.81999433, 239554.27385642,\n",
       "       162997.330126  , 200941.00486119, 199713.41538447, 172818.04593981,\n",
       "       197927.83069104, 174157.23445988, 126839.24008422, 105523.82280651,\n",
       "       232523.53412608, 129964.01329771, 108983.39315001, 210092.12641498,\n",
       "       111215.37401678, 139561.53102484, 168354.08420626, 121928.88217731,\n",
       "       189557.90244063,  69700.52989475, 146703.86979853, 144583.48797509,\n",
       "       108536.99697665, 229956.75612929, 212770.50345511, 212100.90919507,\n",
       "       249598.18775692, 175496.42297994, 203396.18381465, 167461.29185955,\n",
       "       211431.31493504, 148712.65257863, 417443.1489385 , 154069.40665889,\n",
       "       121928.88217731, 128624.82477764, 102733.84672303, 190785.49191736,\n",
       "       218685.25275206, 200494.60868784, 139561.53102484, 146034.2755385 ,\n",
       "       164782.91481942, 144471.88893175, 128066.82956095, 116572.12809705,\n",
       "       190673.89287402, 162550.93395264, 137887.54537476,  83538.81126876,\n",
       "       131749.59799113, 105858.61993652, 292229.02231234, 121928.88217731,\n",
       "       197258.23643101,  92131.93760585, 174380.43254655, 163220.52821267,\n",
       "       106193.41706654, 168354.08420626, 166568.49951284, 134985.97024795,\n",
       "        98939.47924952, 124607.25921744, 173487.64019984, 229175.56282591,\n",
       "       197816.23164771, 165675.70716613, 129964.01329771, 112889.35966687,\n",
       "       134539.5740746 , 169023.67846629, 159426.16073915, 133981.5788579 ,\n",
       "       133535.18268455, 162104.53777928, 119027.3070505 , 132977.18746785,\n",
       "       144137.09180174, 171032.46124639, 177505.20576004, 206855.75415815,\n",
       "       130856.80564442, 234309.1188195 , 232300.3360394 , 229063.96378257,\n",
       "       216006.87571193, 213328.4986718 , 112108.1663635 , 121928.88217731,\n",
       "       175161.62584993, 219020.04988208, 126392.84391086, 270020.81268792,\n",
       "       105189.02567649, 114563.34531695, 204512.17424803, 176947.21054335,\n",
       "       165452.50907945, 143132.70041169, 238884.67959639, 260423.29496078,\n",
       "       238996.27863973, 424585.48771218, 188888.3081806 , 180853.17706021,\n",
       "       132753.98938118, 221810.02596555, 194356.6613042 , 142909.50232501,\n",
       "       140231.12528488, 177282.00767336, 159649.35882583, 300375.75247608,\n",
       "       228059.57239253, 175496.42297994, 224153.60587567, 149605.44492534,\n",
       "       150944.6334454 , 159202.96265248, 194914.6565209 , 181969.16749359,\n",
       "       233751.1236028 , 220805.6345755 , 208306.54172155, 192236.27948077,\n",
       "       216676.46997197, 194914.6565209 , 192905.8737408 , 228505.96856588,\n",
       "       191343.48713405, 125053.6553908 , 185875.13401045, 169693.27272632,\n",
       "       116795.32618373, 137552.74824475, 182080.76653693, 173822.43732986,\n",
       "       125276.85347748, 184982.34166374, 181522.77132024, 192013.08139409,\n",
       "       209980.52737164, 213328.4986718 , 222479.62022558, 212993.70154178,\n",
       "       186767.92635716, 121259.28791728, 169693.27272632, 157863.77413241,\n",
       "       123156.47165404, 111215.37401678, 114563.34531695, 111215.37401678,\n",
       "       162104.53777928, 236764.29777295, 211431.31493504, 210650.12163167,\n",
       "       166345.30142616, 214221.29101851, 227836.37430585, 199378.61825445,\n",
       "       261874.08252419, 243460.24037328, 231184.34560601, 237433.89203299,\n",
       "       248816.99445354, 219689.64414211, 109429.78932336, 109429.78932336,\n",
       "       228952.36473924, 169916.470813  , 232188.73699606, 204512.17424803,\n",
       "       208641.33885157, 194579.85939088, 187995.51583389, 206744.15511481,\n",
       "       163890.12247271, 182192.36558027, 177282.00767336, 160988.5473459 ,\n",
       "       175050.02680659, 178397.99810675, 150944.6334454 , 127732.03243093,\n",
       "       124160.86304409, 146034.2755385 , 207190.55128817, 116795.32618373,\n",
       "       273033.98685807, 134427.97503126, 134427.97503126, 134427.97503126,\n",
       "       205516.56563808, 205516.56563808, 205516.56563808, 205516.56563808,\n",
       "       205404.96659475, 119250.50513718, 164113.32055938, 201052.60390453,\n",
       "       146927.06788521, 151056.23248874, 111215.37401678, 180183.58280017,\n",
       "       154292.60474557, 172594.84785313, 263659.66721761,  70370.12415478,\n",
       "       156859.38274236, 229956.75612929, 192794.27469746, 187883.91679055,\n",
       "       164336.51864606, 179848.78567016, 213886.4938885 , 183308.35601366,\n",
       "       184647.54453373, 197369.83547435, 215895.27666859, 178286.39906341,\n",
       "       158533.36839244, 206409.35798479, 187772.31774721, 184089.54931703,\n",
       "       206409.35798479, 146480.67171185, 244353.03271999, 201275.80199121,\n",
       "       276493.55720157, 194356.6613042 , 215783.67762526, 216899.66805864,\n",
       "       198597.42495108, 273145.58590141, 163890.12247271, 220582.43648882,\n",
       "       123714.46687073, 158198.57126243,  89788.35769573,  86328.78735223,\n",
       "       120924.49078726, 197593.03356103, 163890.12247271,  96149.50316604,\n",
       "        68361.34137468, 170586.06507303, 119250.50513718, 213216.89962846,\n",
       "       198485.82590774, 196142.24599762, 200494.60868784, 181187.97419022,\n",
       "       126839.24008422, 149828.64301202, 233416.32647279, 295911.79074253,\n",
       "       159314.56169581, 198932.22208109, 205293.36755141, 141681.91284828,\n",
       "       164224.91960272, 295353.79552583, 171367.25837641, 215672.07858192,\n",
       "       233527.92551613, 241116.66046317, 219912.84222879, 193352.26991415,\n",
       "       167461.29185955, 150498.23727205, 164001.72151604, 142016.7099783 ,\n",
       "       160318.95308586, 179402.3894968 , 296134.9888292 , 112331.36445017,\n",
       "       199155.42016777,  85101.1978755 , 136659.95589803, 166568.49951284,\n",
       "        85101.1978755 , 136659.95589803, 136659.95589803, 136659.95589803,\n",
       "       136659.95589803, 207636.94746152, 207636.94746152, 140454.32337155,\n",
       "       151391.02961876, 126727.64104088, 115456.13766366, 123044.8726107 ,\n",
       "       169804.87176966, 237991.88724968])"
      ]
     },
     "execution_count": 4,
     "metadata": {},
     "output_type": "execute_result"
    }
   ],
   "source": [
    "from sklearn.linear_model import LinearRegression\n",
    "\n",
    "X_train = ames_train[[\"Gr Liv Area\"]] # training data features \n",
    "X_test = ames_test[[\"Gr Liv Area\"]] # test data features \n",
    "y_train = ames_train[\"SalePrice\"] # training data target variable y\n",
    "\n",
    "model = LinearRegression()\n",
    "model.fit(X=X_train, y=y_train) # Input = features and target variable Y from the training data \n",
    "model.predict(X=X_test) # Input = features from test   # Output = predicted y "
   ]
  },
  {
   "cell_type": "markdown",
   "metadata": {
    "colab_type": "text",
    "id": "pOTgz8KAgc4s"
   },
   "source": [
    "2\\.  There is another way to graph a fitted linear regression model: extract the intercept and coefficient and draw a line with that intercept and slope. Verify that this gives the same graph as Exercise 2. (**** SKIP THIS ONE ****)"
   ]
  },
  {
   "cell_type": "code",
   "execution_count": 5,
   "metadata": {},
   "outputs": [],
   "source": [
    "#Skipped"
   ]
  },
  {
   "cell_type": "markdown",
   "metadata": {
    "colab_type": "text",
    "id": "1-I-np7Ugc40"
   },
   "source": [
    " 3\\. Fit a linear regression model that predicts the price of a home using square footage, number of bedrooms (**Bedroom AbvGr**), number of full bathrooms (**Full Bath**), and number of half bathrooms (**Half Bath**). Interpret the coefficients. Then, use your fitted model to predict the price of a home that is 1500 square feet, with 3 bedrooms, 2 full baths, and 1 half bath."
   ]
  },
  {
   "cell_type": "code",
   "execution_count": 6,
   "metadata": {},
   "outputs": [
    {
     "data": {
      "text/plain": [
       "LinearRegression(copy_X=True, fit_intercept=True, n_jobs=None,\n",
       "         normalize=False)"
      ]
     },
     "execution_count": 6,
     "metadata": {},
     "output_type": "execute_result"
    }
   ],
   "source": [
    "#import numpy as np\n",
    "#ames_train[\"log(SalePrice)\"] = np.log(ames_train[\"SalePrice\"])\n",
    "ashen_model = LinearRegression()\n",
    "ashen_model.fit(\n",
    "    X=ames_train[[\"Gr Liv Area\", \"Bedroom AbvGr\", \"Full Bath\", \"Half Bath\"]],\n",
    "    y=ames_train[\"SalePrice\"]\n",
    ")"
   ]
  },
  {
   "cell_type": "code",
   "execution_count": 7,
   "metadata": {},
   "outputs": [
    {
     "data": {
      "text/plain": [
       "array([189714.20385607])"
      ]
     },
     "execution_count": 7,
     "metadata": {},
     "output_type": "execute_result"
    }
   ],
   "source": [
    "tempAmes_test = pd.DataFrame({\"Gr Liv Area\":[1500], \"Bedroom AbvGr\":[3], \"Full Bath\":[2], \"Half Bath\":[1]})\n",
    "ashen_model.predict(\n",
    "    X=tempAmes_test[[\"Gr Liv Area\", \"Bedroom AbvGr\", \"Full Bath\", \"Half Bath\"]]\n",
    ")"
   ]
  },
  {
   "cell_type": "markdown",
   "metadata": {},
   "source": [
    "According to our linear regression, a home that is 1500 sqaure feet, with 3 bedrooms, 2 full baths, and 1 half bath would cost about **$189714.20**."
   ]
  },
  {
   "cell_type": "markdown",
   "metadata": {
    "colab_type": "text",
    "id": "Vjy1aIPXgc42"
   },
   "source": [
    "_Exercises 4-5 ask you to fit linear regression models to the tips data (tips.csv ), which contains information about tips collected by a waiter._"
   ]
  },
  {
   "cell_type": "markdown",
   "metadata": {
    "colab_type": "text",
    "id": "GBoWHzLbgc45"
   },
   "source": [
    "4\\. Suppose you want to predict how much a male diner will tip on a Sunday bill of $40.00. Fit a linear regression model to the tips data to answer this question. (Hint: You will need to convert categorical variables to quantitative variables. asZaqAZ)"
   ]
  },
  {
   "cell_type": "code",
   "execution_count": 8,
   "metadata": {},
   "outputs": [
    {
     "data": {
      "text/html": [
       "<div>\n",
       "<style scoped>\n",
       "    .dataframe tbody tr th:only-of-type {\n",
       "        vertical-align: middle;\n",
       "    }\n",
       "\n",
       "    .dataframe tbody tr th {\n",
       "        vertical-align: top;\n",
       "    }\n",
       "\n",
       "    .dataframe thead th {\n",
       "        text-align: right;\n",
       "    }\n",
       "</style>\n",
       "<table border=\"1\" class=\"dataframe\">\n",
       "  <thead>\n",
       "    <tr style=\"text-align: right;\">\n",
       "      <th></th>\n",
       "      <th>obs</th>\n",
       "      <th>totbill</th>\n",
       "      <th>tip</th>\n",
       "      <th>sex</th>\n",
       "      <th>smoker</th>\n",
       "      <th>day</th>\n",
       "      <th>time</th>\n",
       "      <th>size</th>\n",
       "    </tr>\n",
       "  </thead>\n",
       "  <tbody>\n",
       "    <tr>\n",
       "      <th>0</th>\n",
       "      <td>1</td>\n",
       "      <td>16.99</td>\n",
       "      <td>1.01</td>\n",
       "      <td>2</td>\n",
       "      <td>No</td>\n",
       "      <td>1</td>\n",
       "      <td>Night</td>\n",
       "      <td>2</td>\n",
       "    </tr>\n",
       "    <tr>\n",
       "      <th>1</th>\n",
       "      <td>2</td>\n",
       "      <td>10.34</td>\n",
       "      <td>1.66</td>\n",
       "      <td>1</td>\n",
       "      <td>No</td>\n",
       "      <td>1</td>\n",
       "      <td>Night</td>\n",
       "      <td>3</td>\n",
       "    </tr>\n",
       "    <tr>\n",
       "      <th>2</th>\n",
       "      <td>3</td>\n",
       "      <td>21.01</td>\n",
       "      <td>3.50</td>\n",
       "      <td>1</td>\n",
       "      <td>No</td>\n",
       "      <td>1</td>\n",
       "      <td>Night</td>\n",
       "      <td>3</td>\n",
       "    </tr>\n",
       "    <tr>\n",
       "      <th>3</th>\n",
       "      <td>4</td>\n",
       "      <td>23.68</td>\n",
       "      <td>3.31</td>\n",
       "      <td>1</td>\n",
       "      <td>No</td>\n",
       "      <td>1</td>\n",
       "      <td>Night</td>\n",
       "      <td>2</td>\n",
       "    </tr>\n",
       "    <tr>\n",
       "      <th>4</th>\n",
       "      <td>5</td>\n",
       "      <td>24.59</td>\n",
       "      <td>3.61</td>\n",
       "      <td>2</td>\n",
       "      <td>No</td>\n",
       "      <td>1</td>\n",
       "      <td>Night</td>\n",
       "      <td>4</td>\n",
       "    </tr>\n",
       "  </tbody>\n",
       "</table>\n",
       "</div>"
      ],
      "text/plain": [
       "   obs  totbill   tip  sex smoker  day   time  size\n",
       "0    1    16.99  1.01    2     No    1  Night     2\n",
       "1    2    10.34  1.66    1     No    1  Night     3\n",
       "2    3    21.01  3.50    1     No    1  Night     3\n",
       "3    4    23.68  3.31    1     No    1  Night     2\n",
       "4    5    24.59  3.61    2     No    1  Night     4"
      ]
     },
     "execution_count": 8,
     "metadata": {},
     "output_type": "execute_result"
    }
   ],
   "source": [
    "import pandas as pd\n",
    "tips_df = pd.read_csv(\"tips.csv\")\n",
    "tips_df.sex = tips_df.sex.replace(\"M\", 1)\n",
    "tips_df.sex = tips_df.sex.replace(\"F\", 2)\n",
    "tips_df.day = tips_df.day.replace(\"Sun\", 1)\n",
    "tips_df.day = tips_df.day.replace(\"Sat\", 2)\n",
    "tips_df.day = tips_df.day.replace(\"Fri\", 3)\n",
    "tips_df.day = tips_df.day.replace(\"Thu\", 4)\n",
    "\n",
    "tips_df.head()"
   ]
  },
  {
   "cell_type": "code",
   "execution_count": 9,
   "metadata": {},
   "outputs": [
    {
     "name": "stderr",
     "output_type": "stream",
     "text": [
      "/home/jtang073/.local/lib/python2.7/site-packages/sklearn/preprocessing/data.py:645: DataConversionWarning: Data with input dtype int64, float64 were all converted to float64 by StandardScaler.\n",
      "  return self.partial_fit(X, y)\n",
      "/home/jtang073/.local/lib/python2.7/site-packages/ipykernel_launcher.py:8: DataConversionWarning: Data with input dtype int64, float64 were all converted to float64 by StandardScaler.\n",
      "  \n"
     ]
    }
   ],
   "source": [
    "tips_train = tips_df.loc[0:, [\"totbill\", \"tip\", \"sex\", \"day\", \"size\"]].copy()\n",
    "\n",
    "from sklearn.preprocessing import StandardScaler\n",
    "scaler = StandardScaler()\n",
    "\n",
    "# build the scaler on training \n",
    "scaler.fit(tips_train) # computing the mean and std for the features \n",
    "tips_train_scaled = scaler.transform(tips_train) # identify the subset of features that should be scaled "
   ]
  },
  {
   "cell_type": "code",
   "execution_count": 10,
   "metadata": {},
   "outputs": [
    {
     "data": {
      "text/plain": [
       "LinearRegression(copy_X=True, fit_intercept=True, n_jobs=None,\n",
       "         normalize=False)"
      ]
     },
     "execution_count": 10,
     "metadata": {},
     "output_type": "execute_result"
    }
   ],
   "source": [
    "from sklearn.linear_model import LinearRegression\n",
    "ashen_model = LinearRegression()\n",
    "ashen_model.fit(\n",
    "    X=tips_train[[\"totbill\", \"sex\", \"day\", \"size\"]],\n",
    "    y=tips_train[\"tip\"]\n",
    ")"
   ]
  },
  {
   "cell_type": "code",
   "execution_count": 11,
   "metadata": {},
   "outputs": [
    {
     "data": {
      "text/plain": [
       "array([4.58110092])"
      ]
     },
     "execution_count": 11,
     "metadata": {},
     "output_type": "execute_result"
    }
   ],
   "source": [
    "tempTips_test = pd.DataFrame({\"totbill\":[40.00], \"sex\":[1], \"day\":[1], \"size\":[1]})\n",
    "ashen_model.predict(\n",
    "    X=tempTips_test[[\"totbill\", \"sex\", \"day\", \"size\"]]\n",
    ")"
   ]
  },
  {
   "cell_type": "markdown",
   "metadata": {},
   "source": [
    "Assuming that the male diner is by himself(size = 1): Our linear regression shows that a single male diner will tip about **$4.58** on a Sunday bill of 40 dollars"
   ]
  },
  {
   "cell_type": "markdown",
   "metadata": {
    "colab_type": "text",
    "id": "-1JP6TiPgc46"
   },
   "source": [
    "5\\. Fit a linear regression model, with no intercept, that predicts the tip from the total bill. That is, we want our predictions to be of the form \n",
    "$$ \\widehat{\\text{tip}} = c \\cdot (\\text{total bill}). $$\n",
    "where $c$ is some coefficient to be learned from the training data. \n",
    "\n",
    "(_Hint:_ `LinearRegression()` has a parameter, `fit_intercept=`, which is `True` by default.)\n",
    "    \n",
    "Plot the data and the fitted model. In practical terms, what assumption is being made when we fit a model with no intercept? "
   ]
  },
  {
   "cell_type": "code",
   "execution_count": 12,
   "metadata": {
    "colab": {},
    "colab_type": "code",
    "id": "80yd5cMiILU6"
   },
   "outputs": [
    {
     "data": {
      "text/plain": [
       "array([ 0.09274803,  0.03423368, -0.01544815,  0.19078857])"
      ]
     },
     "execution_count": 12,
     "metadata": {},
     "output_type": "execute_result"
    }
   ],
   "source": [
    "ashen_model.coef_"
   ]
  },
  {
   "cell_type": "code",
   "execution_count": 13,
   "metadata": {},
   "outputs": [
    {
     "data": {
      "text/plain": [
       "LinearRegression(copy_X=True, fit_intercept=False, n_jobs=None,\n",
       "         normalize=False)"
      ]
     },
     "execution_count": 13,
     "metadata": {},
     "output_type": "execute_result"
    }
   ],
   "source": [
    "from sklearn.linear_model import LinearRegression\n",
    "\n",
    "X_train = tips_train[[\"totbill\"]] # training data features \n",
    "X_test = tempTips_test[[\"totbill\"]] # test data features \n",
    "y_train = tips_train[\"tip\"] # training data target variable y\n",
    "\n",
    "model = LinearRegression(fit_intercept=False)\n",
    "model.fit(X=X_train, y=y_train) # Input = features and target variable Y from the training data "
   ]
  },
  {
   "cell_type": "code",
   "execution_count": 14,
   "metadata": {},
   "outputs": [
    {
     "data": {
      "text/plain": [
       "<matplotlib.axes._subplots.AxesSubplot at 0x7f1e58876e50>"
      ]
     },
     "execution_count": 14,
     "metadata": {},
     "output_type": "execute_result"
    },
    {
     "data": {
      "image/png": "[encoded data removed]",
      "text/plain": [
       "<Figure size 432x288 with 1 Axes>"
      ]
     },
     "metadata": {
      "needs_background": "light"
     },
     "output_type": "display_data"
    }
   ],
   "source": [
    "import numpy as np\n",
    "%matplotlib inline\n",
    "X_new = pd.DataFrame()\n",
    "# create a sequence of 200 evenly spaced numbers from 10 to 41\n",
    "X_new[\"totbill\"] = np.linspace(0, 52, num=200) #min=3 max=51\n",
    "\n",
    "# create a Series out of the predicted values\n",
    "# (trailing underscore indicates fitted values)\n",
    "y_new_ = pd.Series(\n",
    "    model.predict(X_new), # y values in Series.plot.line()\n",
    "    index=X_new[\"totbill\"]    # x values in Series.plot.line()\n",
    ")\n",
    "\n",
    "# plot the data, then the model\n",
    "tips_train.plot.scatter(x=\"totbill\", y=\"tip\")\n",
    "y_new_.plot.line()"
   ]
  },
  {
   "cell_type": "markdown",
   "metadata": {},
   "source": [
    "If we fit a model with no intercepts then we can assume that the intercept line starts at 0. In other words, when we encounter a total bill of $0 we will not have to worry about the customer paying the predicted tip according to our data for no reason."
   ]
  }
 ],
 "metadata": {
  "colab": {
   "collapsed_sections": [],
   "name": "Linear_Regression.ipynb",
   "provenance": []
  },
  "kernelspec": {
   "display_name": "Python 3",
   "language": "python",
   "name": "python3"
  },
  "language_info": {
   "codemirror_mode": {
    "name": "ipython",
    "version": 2
   },
   "file_extension": ".py",
   "mimetype": "text/x-python",
   "name": "python",
   "nbconvert_exporter": "python",
   "pygments_lexer": "ipython2",
   "version": "2.7.17"
  }
 },
 "nbformat": 4,
 "nbformat_minor": 2
}
