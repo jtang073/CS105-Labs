{
 "cells": [
  {
   "cell_type": "markdown",
   "metadata": {
    "colab_type": "text",
    "id": "__1JBcfGnOHj"
   },
   "source": [
    "# The Distribution of First Digits\n",
    "\n",
    "In this lab, you will explore the distribution of first digits in real data. For example, the first digits of the numbers 52, 30.8, and 0.07 are 5, 3, and 7 respectively. In this lab, you will investigate the question: how frequently does each digit 1-9 appear as the first digit of the number?\n"
   ]
  },
  {
   "cell_type": "markdown",
   "metadata": {
    "colab_type": "text",
    "id": "iJ0is3PhnOHl"
   },
   "source": [
    "## Question 0\n",
    "\n",
    "Make a prediction. \n",
    "\n",
    "1. Approximately what percentage of the values do you think will have a _first_ digit of 1? What percentage of the values do you think will have a first digit of 9?\n",
    "2. Approximately what percentage of the values do you think will have a _last_ digit of 1? What percentage of the values do you think will have a last digit of 9?\n",
    "\n",
    "(Don't worry about being wrong. You will earn full credit for any justified answer.)"
   ]
  },
  {
   "cell_type": "markdown",
   "metadata": {
    "colab_type": "text",
    "id": "D4Kxu2djnOHm"
   },
   "source": [
    "**ENTER YOUR WRITTEN EXPLANATION HERE.**\n",
    "1. I think about 50% or more will have first digits of 1 because 1 is the starting point for 1k, 10k, 100k etc.. and is more common than other numbers.\n",
    "I think about less than 10% will be first digits of 9 because it is less common to see higher end numbers like 9k, 90k, 900k etc..\n",
    "\n",
    "2. I think that last numbers are the most unpredictable and the most random. Therefore I believe that all digits 0-9 have an equal chance of showing up so it would be 10% for *both*    1 and 9 in terms of last digit."
   ]
  },
  {
   "cell_type": "markdown",
   "metadata": {
    "colab_type": "text",
    "id": "Dyc5U7u7nOHn"
   },
   "source": [
    "## Question 1\n",
    "\n",
    "The [S&P 500](https://en.wikipedia.org/wiki/S%26P_500_Index) is a stock index based on the market capitalizations of large companies that are publicly traded on the NYSE or NASDAQ. The CSV file `sp500.csv` contains data from February 1, 2018 about the stocks that comprise the S&P 500. We will investigate the first digit distributions of the variables in this data set.\n",
    "\n",
    "Read in the S&P 500 data. What is the unit of observation in this data set? Is there a variable that is natural to use as the index? If so, set that variable to be the index. Once you are done, display the `DataFrame`."
   ]
  },
  {
   "cell_type": "code",
   "execution_count": 1,
   "metadata": {
    "colab": {},
    "colab_type": "code",
    "id": "vX2M_vUAnOHr",
    "outputId": "9e1819ee-c8d0-441c-f9cc-5e1bc8558716"
   },
   "outputs": [
    {
     "name": "stdout",
     "output_type": "stream",
     "text": [
      "            date     open    close    volume\n",
      "Name                                        \n",
      "AAL   2018-02-01   $54.00   $53.88   3623078\n",
      "AAPL  2018-02-01  $167.16  $167.78  47230787\n",
      "AAP   2018-02-01  $116.24  $117.29    760629\n",
      "ABBV  2018-02-01  $112.24  $116.34   9943452\n",
      "ABC   2018-02-01   $97.74   $99.29   2786798\n",
      "ABT   2018-02-01   $61.75   $62.18   8101584\n",
      "ACN   2018-02-01  $160.16  $160.46   1692576\n",
      "ADBE  2018-02-01  $199.12  $199.38   2366120\n",
      "ADI   2018-02-01   $91.25   $91.65   2312175\n",
      "ADM   2018-02-01   $42.77   $42.46   2921389\n",
      "ADP   2018-02-01  $122.59  $120.42   2555727\n",
      "ADSK  2018-02-01  $114.72  $115.57   1596444\n",
      "ADS   2018-02-01  $256.26  $257.11    281384\n",
      "AEE   2018-02-01   $56.62   $55.21   3167081\n",
      "AEP   2018-02-01   $68.74   $67.84   2968573\n",
      "AES   2018-02-01   $11.59   $11.51   6781029\n",
      "AET   2018-02-01  $186.52  $187.39   2596718\n",
      "AFL   2018-02-01   $88.58   $89.69   3710290\n",
      "AGN   2018-02-01  $179.98  $178.54   2106462\n",
      "AIG   2018-02-01   $63.74   $64.17   4120710\n",
      "AIV   2018-02-01   $41.91   $40.80   1483949\n",
      "AIZ   2018-02-01   $91.40   $93.06    319634\n",
      "AJG   2018-02-01   $68.30   $69.19   1106069\n",
      "AKAM  2018-02-01   $66.42   $67.56   1440142\n",
      "ALB   2018-02-01  $110.92  $109.20   1962034\n",
      "ALGN  2018-02-01  $261.59  $255.57   1735592\n",
      "ALK   2018-02-01   $65.54   $64.08   2492777\n",
      "ALLE  2018-02-01   $85.84   $85.17    528543\n",
      "ALL   2018-02-01   $98.57   $98.72   2422471\n",
      "ALXN  2018-02-01  $118.45  $118.09   2706959\n",
      "...          ...      ...      ...       ...\n",
      "VTR   2018-02-01   $55.93   $54.40   2715228\n",
      "VZ    2018-02-01   $54.49   $54.30  18646097\n",
      "V     2018-02-01  $124.74  $125.72  11169657\n",
      "WAT   2018-02-01  $214.16  $217.37    453178\n",
      "WBA   2018-02-01   $74.53   $76.06   5198419\n",
      "WDC   2018-02-01   $87.43   $87.65   3555220\n",
      "WEC   2018-02-01   $64.08   $62.60   4066611\n",
      "WFC   2018-02-01   $65.37   $65.51  15717623\n",
      "WHR   2018-02-01  $180.62  $182.49    799249\n",
      "WLTW  2018-02-01  $160.26  $163.92    516149\n",
      "WMB   2018-02-01   $31.54   $31.68   4304587\n",
      "WMT   2018-02-01  $105.96  $105.52   6386836\n",
      "WM    2018-02-01   $88.47   $87.85   1628453\n",
      "WRK   2018-02-01   $65.18   $66.28   2062510\n",
      "WU    2018-02-01   $20.71   $20.69   6318715\n",
      "WYNN  2018-02-01  $166.01  $170.49   6416095\n",
      "WYN   2018-02-01  $123.45  $125.12    730569\n",
      "WY    2018-02-01   $37.47   $37.16   6208911\n",
      "XEC   2018-02-01  $113.04  $113.41   1076052\n",
      "XEL   2018-02-01   $45.67   $44.81   4498227\n",
      "XLNX  2018-02-01   $72.77   $72.49   3935212\n",
      "XL    2018-02-01   $36.73   $36.79   3092303\n",
      "XOM   2018-02-01   $87.50   $89.07  17971012\n",
      "XRAY  2018-02-01   $60.55   $60.73   1383650\n",
      "XRX   2018-02-01   $34.10   $32.75   8154921\n",
      "XYL   2018-02-01   $72.50   $74.84   1817612\n",
      "YUM   2018-02-01   $84.24   $83.98   1685275\n",
      "ZBH   2018-02-01  $126.35  $128.19   1756300\n",
      "ZION  2018-02-01   $53.79   $54.98   3542047\n",
      "ZTS   2018-02-01   $76.84   $77.82   2982259\n",
      "\n",
      "[505 rows x 4 columns]\n"
     ]
    }
   ],
   "source": [
    "# ENTER YOUR CODE HERE.\n",
    "import pandas as pd\n",
    "pd.DataFrame\n",
    "df = pd.read_csv(\"sp500.csv\")\n",
    "df.head()\n",
    "\n",
    "df_by_Name = df.set_index(\"Name\")\n",
    "print(df_by_Name)"
   ]
  },
  {
   "cell_type": "markdown",
   "metadata": {
    "colab_type": "text",
    "id": "7QlsiUNInOHz"
   },
   "source": [
    "**ENTER YOUR WRITTEN EXPLANATION HERE.**\n",
    "\n",
    "There are multiple units to observe just as the open/close prices and the volume of shares. It is natural to set the \"Name\" as the index as it is easier for people to find and sort."
   ]
  },
  {
   "cell_type": "markdown",
   "metadata": {
    "colab_type": "text",
    "id": "GKW3GDWYnOHz"
   },
   "source": [
    "## Question 2\n",
    "\n",
    "We will start by looking at the `volume` column. This variable tells us how many shares were traded on that date.\n",
    "\n",
    "Extract the first digit of every value in this column. (_Hint:_ First, turn the numbers into strings. Then, use the [text processing functionalities](https://pandas.pydata.org/pandas-docs/stable/text.html) of `pandas` to extract the first character of each string.) Make an appropriate visualization to display the distribution of the first digits. (_Hint:_ Think carefully about whether the variable you are plotting is quantitative or categorical.)\n",
    "\n",
    "How does this compare with what you predicted in Question 0?"
   ]
  },
  {
   "cell_type": "code",
   "execution_count": 2,
   "metadata": {
    "colab": {},
    "colab_type": "code",
    "id": "MyTVgillnOH0",
    "outputId": "e828b101-6fe7-47ad-f0ed-81b83a0ee9f4"
   },
   "outputs": [
    {
     "data": {
      "text/plain": [
       "<matplotlib.axes._subplots.AxesSubplot at 0x7fb558a7b590>"
      ]
     },
     "execution_count": 2,
     "metadata": {},
     "output_type": "execute_result"
    },
    {
     "data": {
      "image/png": "[encoded data removed]",
      "text/plain": [
       "<Figure size 432x288 with 1 Axes>"
      ]
     },
     "metadata": {
      "needs_background": "light"
     },
     "output_type": "display_data"
    }
   ],
   "source": [
    "# ENTER YOUR CODE HERE.\n",
    "df.volume = df.volume.apply(str)\n",
    "first_digits = df.volume.str[0]\n",
    "first_digits.value_counts()\n",
    "\n",
    "import matplotlib \n",
    "%matplotlib inline\n",
    "\n",
    "df_first = first_digits.value_counts()\n",
    "df_first.sort_index(inplace=True)\n",
    "df_first.plot.bar()"
   ]
  },
  {
   "cell_type": "markdown",
   "metadata": {
    "colab_type": "text",
    "id": "Gg3msmSZnOIE"
   },
   "source": [
    "**ENTER YOUR WRITTEN EXPLANATION HERE.**\n",
    "\n",
    "This bar graph supports my hypothesis in question 0 because there are more 1's than other numbers. However, the exact percentage that I guessed was off."
   ]
  },
  {
   "cell_type": "markdown",
   "metadata": {
    "colab_type": "text",
    "id": "fw4kZAVmnOIF"
   },
   "source": [
    "## Question 3\n",
    "\n",
    "Now, repeat Question 2, but for the distribution of _last_ digits. Again, make an appropriate visualization and compare with your prediction in Question 0."
   ]
  },
  {
   "cell_type": "code",
   "execution_count": 3,
   "metadata": {
    "colab": {},
    "colab_type": "code",
    "id": "oovgcTUFnOIL"
   },
   "outputs": [
    {
     "data": {
      "text/plain": [
       "<matplotlib.axes._subplots.AxesSubplot at 0x7fb556930110>"
      ]
     },
     "execution_count": 3,
     "metadata": {},
     "output_type": "execute_result"
    },
    {
     "data": {
      "image/png": "[encoded data removed]",
      "text/plain": [
       "<Figure size 432x288 with 1 Axes>"
      ]
     },
     "metadata": {
      "needs_background": "light"
     },
     "output_type": "display_data"
    }
   ],
   "source": [
    "# ENTER YOUR CODE HERE.\n",
    "df.volume = df.volume.apply(str)\n",
    "last_digits = df.volume.str[-1]\n",
    "last_digits.value_counts()\n",
    "\n",
    "import matplotlib \n",
    "%matplotlib inline\n",
    "\n",
    "df_last = last_digits.value_counts()\n",
    "df_last.sort_index(inplace=True)\n",
    "df_last.plot.bar()\n"
   ]
  },
  {
   "cell_type": "markdown",
   "metadata": {
    "colab_type": "text",
    "id": "Wk1hWz2_nOIY"
   },
   "source": [
    "**ENTER YOUR WRITTEN EXPLANATION HERE.**\n",
    "\n",
    "This bar graph somewhat supports my hypothesis in question 0 because the graph is sort of evenly distributed and thus proving to be somewhat difficult to predict."
   ]
  },
  {
   "cell_type": "markdown",
   "metadata": {
    "colab_type": "text",
    "id": "JSJYFTMAnOIZ"
   },
   "source": [
    "## Question 4\n",
    "\n",
    "Maybe the `volume` column was just a fluke. Let's see if the first digit distribution holds up when we look at a very different variable: the closing price of the stock. Make a visualization of the first digit distribution of the closing price (the `close` column of the `DataFrame`). Comment on what you see.\n",
    "\n",
    "(_Hint:_ What type did `pandas` infer this variable as and why? You will have to first clean the values using the [text processing functionalities](https://pandas.pydata.org/pandas-docs/stable/text.html) of `pandas` and then convert this variable to a quantitative variable.)"
   ]
  },
  {
   "cell_type": "code",
   "execution_count": 4,
   "metadata": {
    "colab": {},
    "colab_type": "code",
    "id": "8Xvx4HyhnOIa"
   },
   "outputs": [
    {
     "name": "stdout",
     "output_type": "stream",
     "text": [
      "0      5\n",
      "1      1\n",
      "2      1\n",
      "3      1\n",
      "4      9\n",
      "5      6\n",
      "6      1\n",
      "7      1\n",
      "8      9\n",
      "9      4\n",
      "10     1\n",
      "11     1\n",
      "12     2\n",
      "13     5\n",
      "14     6\n",
      "15     1\n",
      "16     1\n",
      "17     8\n",
      "18     1\n",
      "19     6\n",
      "20     4\n",
      "21     9\n",
      "22     6\n",
      "23     6\n",
      "24     1\n",
      "25     2\n",
      "26     6\n",
      "27     8\n",
      "28     9\n",
      "29     1\n",
      "      ..\n",
      "475    5\n",
      "476    5\n",
      "477    1\n",
      "478    2\n",
      "479    7\n",
      "480    8\n",
      "481    6\n",
      "482    6\n",
      "483    1\n",
      "484    1\n",
      "485    3\n",
      "486    1\n",
      "487    8\n",
      "488    6\n",
      "489    2\n",
      "490    1\n",
      "491    1\n",
      "492    3\n",
      "493    1\n",
      "494    4\n",
      "495    7\n",
      "496    3\n",
      "497    8\n",
      "498    6\n",
      "499    3\n",
      "500    7\n",
      "501    8\n",
      "502    1\n",
      "503    5\n",
      "504    7\n",
      "Name: close, Length: 505, dtype: object\n"
     ]
    },
    {
     "data": {
      "text/plain": [
       "<matplotlib.axes._subplots.AxesSubplot at 0x7fb5568f38d0>"
      ]
     },
     "execution_count": 4,
     "metadata": {},
     "output_type": "execute_result"
    },
    {
     "data": {
      "image/png": "[encoded data removed]",
      "text/plain": [
       "<Figure size 432x288 with 1 Axes>"
      ]
     },
     "metadata": {
      "needs_background": "light"
     },
     "output_type": "display_data"
    }
   ],
   "source": [
    "# ENTER YOUR CODE HERE.\n",
    "df.close = df.close.apply(str)\n",
    "cfirst_digits = df.close.str[1]\n",
    "cfirst_digits.value_counts()\n",
    "\n",
    "import matplotlib \n",
    "%matplotlib inline\n",
    "\n",
    "print(cfirst_digits)\n",
    "df_cfirst = cfirst_digits.value_counts()\n",
    "df_cfirst.sort_index(inplace=True)\n",
    "df_cfirst.plot.bar()"
   ]
  },
  {
   "cell_type": "markdown",
   "metadata": {
    "colab_type": "text",
    "id": "S5EGwnx1nOIj"
   },
   "source": [
    "**ENTER YOUR WRITTEN EXPLANATION HERE.**\n",
    "\n",
    "1's are more common than other numbers just like in the previous part.\n",
    "\n",
    "pandas inferred this variable to be an object because the close category contains the symbol \"$\" mixed with numbers."
   ]
  },
  {
   "cell_type": "markdown",
   "metadata": {
    "colab_type": "text",
    "id": "N6klhgAUnOIk"
   },
   "source": [
    "## Submission Instructions\n",
    "\n",
    "Once you are finished, follow these steps:\n",
    "\n",
    "1. Restart the kernel and re-run this notebook from beginning to end by going to `Kernel > Restart Kernel and Run All Cells`.\n",
    "2. If this process stops halfway through, that means there was an error. Correct the error and repeat Step 1 until the notebook runs from beginning to end.\n",
    "3. Double check that there is a number next to each code cell and that these numbers are in order.\n",
    "\n",
    "Then, submit your lab as follows:\n",
    "\n",
    "1. Upload your .ipyn Notebook to iLearn. \n",
    "4. Have the TA check your lab to obtain credit. "
   ]
  }
 ],
 "metadata": {
  "colab": {
   "collapsed_sections": [],
   "name": "1A. Distribution of First Digits.ipynb",
   "provenance": []
  },
  "kernelspec": {
   "display_name": "Python 3",
   "language": "python",
   "name": "python3"
  },
  "language_info": {
   "codemirror_mode": {
    "name": "ipython",
    "version": 2
   },
   "file_extension": ".py",
   "mimetype": "text/x-python",
   "name": "python",
   "nbconvert_exporter": "python",
   "pygments_lexer": "ipython2",
   "version": "2.7.17"
  }
 },
 "nbformat": 4,
 "nbformat_minor": 2
}
